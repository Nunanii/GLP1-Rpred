{
  "cells": [
    {
      "cell_type": "code",
      "execution_count": null,
      "metadata": {
        "colab": {
          "base_uri": "https://localhost:8080/"
        },
        "id": "dgLEAJ49fVnX",
        "outputId": "c7b6437f-6f82-45dc-b761-9442f22e1153"
      },
      "outputs": [
        {
          "name": "stdout",
          "output_type": "stream",
          "text": [
            "Looking in indexes: https://pypi.org/simple, https://us-python.pkg.dev/colab-wheels/public/simple/\n",
            "Requirement already satisfied: tensorflow in /usr/local/lib/python3.7/dist-packages (2.8.2+zzzcolab20220719082949)\n",
            "Requirement already satisfied: keras in /usr/local/lib/python3.7/dist-packages (2.8.0)\n",
            "Requirement already satisfied: keras-preprocessing>=1.1.1 in /usr/local/lib/python3.7/dist-packages (from tensorflow) (1.1.2)\n",
            "Requirement already satisfied: numpy>=1.20 in /usr/local/lib/python3.7/dist-packages (from tensorflow) (1.21.6)\n",
            "Requirement already satisfied: gast>=0.2.1 in /usr/local/lib/python3.7/dist-packages (from tensorflow) (0.5.3)\n",
            "Requirement already satisfied: tensorflow-estimator<2.9,>=2.8 in /usr/local/lib/python3.7/dist-packages (from tensorflow) (2.8.0)\n",
            "Requirement already satisfied: absl-py>=0.4.0 in /usr/local/lib/python3.7/dist-packages (from tensorflow) (1.2.0)\n",
            "Requirement already satisfied: tensorboard<2.9,>=2.8 in /usr/local/lib/python3.7/dist-packages (from tensorflow) (2.8.0)\n",
            "Requirement already satisfied: flatbuffers>=1.12 in /usr/local/lib/python3.7/dist-packages (from tensorflow) (2.0)\n",
            "Requirement already satisfied: google-pasta>=0.1.1 in /usr/local/lib/python3.7/dist-packages (from tensorflow) (0.2.0)\n",
            "Requirement already satisfied: libclang>=9.0.1 in /usr/local/lib/python3.7/dist-packages (from tensorflow) (14.0.1)\n",
            "Requirement already satisfied: setuptools in /usr/local/lib/python3.7/dist-packages (from tensorflow) (57.4.0)\n",
            "Requirement already satisfied: opt-einsum>=2.3.2 in /usr/local/lib/python3.7/dist-packages (from tensorflow) (3.3.0)\n",
            "Requirement already satisfied: termcolor>=1.1.0 in /usr/local/lib/python3.7/dist-packages (from tensorflow) (1.1.0)\n",
            "Requirement already satisfied: h5py>=2.9.0 in /usr/local/lib/python3.7/dist-packages (from tensorflow) (3.1.0)\n",
            "Requirement already satisfied: tensorflow-io-gcs-filesystem>=0.23.1 in /usr/local/lib/python3.7/dist-packages (from tensorflow) (0.26.0)\n",
            "Requirement already satisfied: wrapt>=1.11.0 in /usr/local/lib/python3.7/dist-packages (from tensorflow) (1.14.1)\n",
            "Requirement already satisfied: grpcio<2.0,>=1.24.3 in /usr/local/lib/python3.7/dist-packages (from tensorflow) (1.47.0)\n",
            "Requirement already satisfied: typing-extensions>=3.6.6 in /usr/local/lib/python3.7/dist-packages (from tensorflow) (4.1.1)\n",
            "Requirement already satisfied: astunparse>=1.6.0 in /usr/local/lib/python3.7/dist-packages (from tensorflow) (1.6.3)\n",
            "Requirement already satisfied: protobuf<3.20,>=3.9.2 in /usr/local/lib/python3.7/dist-packages (from tensorflow) (3.17.3)\n",
            "Requirement already satisfied: six>=1.12.0 in /usr/local/lib/python3.7/dist-packages (from tensorflow) (1.15.0)\n",
            "Requirement already satisfied: wheel<1.0,>=0.23.0 in /usr/local/lib/python3.7/dist-packages (from astunparse>=1.6.0->tensorflow) (0.37.1)\n",
            "Requirement already satisfied: cached-property in /usr/local/lib/python3.7/dist-packages (from h5py>=2.9.0->tensorflow) (1.5.2)\n",
            "Requirement already satisfied: tensorboard-plugin-wit>=1.6.0 in /usr/local/lib/python3.7/dist-packages (from tensorboard<2.9,>=2.8->tensorflow) (1.8.1)\n",
            "Requirement already satisfied: werkzeug>=0.11.15 in /usr/local/lib/python3.7/dist-packages (from tensorboard<2.9,>=2.8->tensorflow) (1.0.1)\n",
            "Requirement already satisfied: google-auth-oauthlib<0.5,>=0.4.1 in /usr/local/lib/python3.7/dist-packages (from tensorboard<2.9,>=2.8->tensorflow) (0.4.6)\n",
            "Requirement already satisfied: requests<3,>=2.21.0 in /usr/local/lib/python3.7/dist-packages (from tensorboard<2.9,>=2.8->tensorflow) (2.23.0)\n",
            "Requirement already satisfied: google-auth<3,>=1.6.3 in /usr/local/lib/python3.7/dist-packages (from tensorboard<2.9,>=2.8->tensorflow) (1.35.0)\n",
            "Requirement already satisfied: tensorboard-data-server<0.7.0,>=0.6.0 in /usr/local/lib/python3.7/dist-packages (from tensorboard<2.9,>=2.8->tensorflow) (0.6.1)\n",
            "Requirement already satisfied: markdown>=2.6.8 in /usr/local/lib/python3.7/dist-packages (from tensorboard<2.9,>=2.8->tensorflow) (3.4.1)\n",
            "Requirement already satisfied: pyasn1-modules>=0.2.1 in /usr/local/lib/python3.7/dist-packages (from google-auth<3,>=1.6.3->tensorboard<2.9,>=2.8->tensorflow) (0.2.8)\n",
            "Requirement already satisfied: cachetools<5.0,>=2.0.0 in /usr/local/lib/python3.7/dist-packages (from google-auth<3,>=1.6.3->tensorboard<2.9,>=2.8->tensorflow) (4.2.4)\n",
            "Requirement already satisfied: rsa<5,>=3.1.4 in /usr/local/lib/python3.7/dist-packages (from google-auth<3,>=1.6.3->tensorboard<2.9,>=2.8->tensorflow) (4.9)\n",
            "Requirement already satisfied: requests-oauthlib>=0.7.0 in /usr/local/lib/python3.7/dist-packages (from google-auth-oauthlib<0.5,>=0.4.1->tensorboard<2.9,>=2.8->tensorflow) (1.3.1)\n",
            "Requirement already satisfied: importlib-metadata>=4.4 in /usr/local/lib/python3.7/dist-packages (from markdown>=2.6.8->tensorboard<2.9,>=2.8->tensorflow) (4.12.0)\n",
            "Requirement already satisfied: zipp>=0.5 in /usr/local/lib/python3.7/dist-packages (from importlib-metadata>=4.4->markdown>=2.6.8->tensorboard<2.9,>=2.8->tensorflow) (3.8.1)\n",
            "Requirement already satisfied: pyasn1<0.5.0,>=0.4.6 in /usr/local/lib/python3.7/dist-packages (from pyasn1-modules>=0.2.1->google-auth<3,>=1.6.3->tensorboard<2.9,>=2.8->tensorflow) (0.4.8)\n",
            "Requirement already satisfied: idna<3,>=2.5 in /usr/local/lib/python3.7/dist-packages (from requests<3,>=2.21.0->tensorboard<2.9,>=2.8->tensorflow) (2.10)\n",
            "Requirement already satisfied: chardet<4,>=3.0.2 in /usr/local/lib/python3.7/dist-packages (from requests<3,>=2.21.0->tensorboard<2.9,>=2.8->tensorflow) (3.0.4)\n",
            "Requirement already satisfied: urllib3!=1.25.0,!=1.25.1,<1.26,>=1.21.1 in /usr/local/lib/python3.7/dist-packages (from requests<3,>=2.21.0->tensorboard<2.9,>=2.8->tensorflow) (1.24.3)\n",
            "Requirement already satisfied: certifi>=2017.4.17 in /usr/local/lib/python3.7/dist-packages (from requests<3,>=2.21.0->tensorboard<2.9,>=2.8->tensorflow) (2022.6.15)\n",
            "Requirement already satisfied: oauthlib>=3.0.0 in /usr/local/lib/python3.7/dist-packages (from requests-oauthlib>=0.7.0->google-auth-oauthlib<0.5,>=0.4.1->tensorboard<2.9,>=2.8->tensorflow) (3.2.0)\n"
          ]
        }
      ],
      "source": [
        "!pip install tensorflow keras #import keras library"
      ]
    },
    {
      "cell_type": "code",
      "execution_count": null,
      "metadata": {
        "id": "8fTt1nJ0hds4"
      },
      "outputs": [],
      "source": [
        "import pandas as pd #import pandas for displaying data\n",
        "import numpy as np  #numpy for numerical computation\n",
        "df = pd.read_csv(\"/content/drive/MyDrive/final_project/model.csv\") #import csv"
      ]
    },
    {
      "cell_type": "code",
      "execution_count": null,
      "metadata": {
        "id": "GfnX8B4Ikcpv"
      },
      "outputs": [],
      "source": [
        "df = pd.read_csv('/content/drive/MyDrive/final_project/model.csv', header=0)   \n",
        "df = df.reindex(np.random.permutation(df.index))"
      ]
    },
    {
      "cell_type": "code",
      "execution_count": null,
      "metadata": {
        "id": "3jZZ3tkakSWi"
      },
      "outputs": [],
      "source": [
        "Activity = ['PUBCHEM_ACTIVITY_OUTCOME'] #extract activity column from data\n",
        "df_out = pd.get_dummies(df, columns= Activity, drop_first=True)"
      ]
    },
    {
      "cell_type": "code",
      "execution_count": null,
      "metadata": {
        "colab": {
          "base_uri": "https://localhost:8080/",
          "height": 488
        },
        "id": "ZQYaAhHbkyxY",
        "outputId": "1a7c4934-4a53-4292-8894-c29cc9b79178"
      },
      "outputs": [
        {
          "data": {
            "text/html": [
              "\n",
              "  <div id=\"df-03e435ed-a660-4725-9776-918fa001add4\">\n",
              "    <div class=\"colab-df-container\">\n",
              "      <div>\n",
              "<style scoped>\n",
              "    .dataframe tbody tr th:only-of-type {\n",
              "        vertical-align: middle;\n",
              "    }\n",
              "\n",
              "    .dataframe tbody tr th {\n",
              "        vertical-align: top;\n",
              "    }\n",
              "\n",
              "    .dataframe thead th {\n",
              "        text-align: right;\n",
              "    }\n",
              "</style>\n",
              "<table border=\"1\" class=\"dataframe\">\n",
              "  <thead>\n",
              "    <tr style=\"text-align: right;\">\n",
              "      <th></th>\n",
              "      <th>PubchemFP2</th>\n",
              "      <th>PubchemFP12</th>\n",
              "      <th>PubchemFP15</th>\n",
              "      <th>PubchemFP16</th>\n",
              "      <th>PubchemFP19</th>\n",
              "      <th>PubchemFP20</th>\n",
              "      <th>PubchemFP33</th>\n",
              "      <th>PubchemFP143</th>\n",
              "      <th>PubchemFP145</th>\n",
              "      <th>PubchemFP146</th>\n",
              "      <th>...</th>\n",
              "      <th>PubchemFP709</th>\n",
              "      <th>PubchemFP710</th>\n",
              "      <th>PubchemFP712</th>\n",
              "      <th>PubchemFP714</th>\n",
              "      <th>PubchemFP735</th>\n",
              "      <th>PubchemFP758</th>\n",
              "      <th>PubchemFP777</th>\n",
              "      <th>PubchemFP798</th>\n",
              "      <th>PubchemFP821</th>\n",
              "      <th>PUBCHEM_ACTIVITY_OUTCOME_Inactive</th>\n",
              "    </tr>\n",
              "  </thead>\n",
              "  <tbody>\n",
              "    <tr>\n",
              "      <th>12750</th>\n",
              "      <td>1</td>\n",
              "      <td>0</td>\n",
              "      <td>1</td>\n",
              "      <td>1</td>\n",
              "      <td>0</td>\n",
              "      <td>0</td>\n",
              "      <td>0</td>\n",
              "      <td>1</td>\n",
              "      <td>1</td>\n",
              "      <td>1</td>\n",
              "      <td>...</td>\n",
              "      <td>0</td>\n",
              "      <td>0</td>\n",
              "      <td>0</td>\n",
              "      <td>0</td>\n",
              "      <td>0</td>\n",
              "      <td>0</td>\n",
              "      <td>0</td>\n",
              "      <td>0</td>\n",
              "      <td>0</td>\n",
              "      <td>0</td>\n",
              "    </tr>\n",
              "    <tr>\n",
              "      <th>9867</th>\n",
              "      <td>1</td>\n",
              "      <td>0</td>\n",
              "      <td>0</td>\n",
              "      <td>0</td>\n",
              "      <td>1</td>\n",
              "      <td>1</td>\n",
              "      <td>1</td>\n",
              "      <td>0</td>\n",
              "      <td>0</td>\n",
              "      <td>0</td>\n",
              "      <td>...</td>\n",
              "      <td>0</td>\n",
              "      <td>0</td>\n",
              "      <td>0</td>\n",
              "      <td>0</td>\n",
              "      <td>0</td>\n",
              "      <td>0</td>\n",
              "      <td>0</td>\n",
              "      <td>0</td>\n",
              "      <td>0</td>\n",
              "      <td>0</td>\n",
              "    </tr>\n",
              "    <tr>\n",
              "      <th>2476</th>\n",
              "      <td>1</td>\n",
              "      <td>1</td>\n",
              "      <td>1</td>\n",
              "      <td>0</td>\n",
              "      <td>1</td>\n",
              "      <td>1</td>\n",
              "      <td>0</td>\n",
              "      <td>1</td>\n",
              "      <td>1</td>\n",
              "      <td>1</td>\n",
              "      <td>...</td>\n",
              "      <td>1</td>\n",
              "      <td>1</td>\n",
              "      <td>0</td>\n",
              "      <td>1</td>\n",
              "      <td>0</td>\n",
              "      <td>0</td>\n",
              "      <td>1</td>\n",
              "      <td>0</td>\n",
              "      <td>0</td>\n",
              "      <td>1</td>\n",
              "    </tr>\n",
              "    <tr>\n",
              "      <th>4426</th>\n",
              "      <td>1</td>\n",
              "      <td>1</td>\n",
              "      <td>1</td>\n",
              "      <td>0</td>\n",
              "      <td>1</td>\n",
              "      <td>1</td>\n",
              "      <td>0</td>\n",
              "      <td>1</td>\n",
              "      <td>1</td>\n",
              "      <td>1</td>\n",
              "      <td>...</td>\n",
              "      <td>1</td>\n",
              "      <td>1</td>\n",
              "      <td>0</td>\n",
              "      <td>0</td>\n",
              "      <td>0</td>\n",
              "      <td>0</td>\n",
              "      <td>0</td>\n",
              "      <td>0</td>\n",
              "      <td>0</td>\n",
              "      <td>1</td>\n",
              "    </tr>\n",
              "    <tr>\n",
              "      <th>3897</th>\n",
              "      <td>1</td>\n",
              "      <td>1</td>\n",
              "      <td>1</td>\n",
              "      <td>0</td>\n",
              "      <td>1</td>\n",
              "      <td>0</td>\n",
              "      <td>0</td>\n",
              "      <td>0</td>\n",
              "      <td>0</td>\n",
              "      <td>0</td>\n",
              "      <td>...</td>\n",
              "      <td>1</td>\n",
              "      <td>1</td>\n",
              "      <td>0</td>\n",
              "      <td>0</td>\n",
              "      <td>0</td>\n",
              "      <td>1</td>\n",
              "      <td>0</td>\n",
              "      <td>0</td>\n",
              "      <td>1</td>\n",
              "      <td>1</td>\n",
              "    </tr>\n",
              "    <tr>\n",
              "      <th>...</th>\n",
              "      <td>...</td>\n",
              "      <td>...</td>\n",
              "      <td>...</td>\n",
              "      <td>...</td>\n",
              "      <td>...</td>\n",
              "      <td>...</td>\n",
              "      <td>...</td>\n",
              "      <td>...</td>\n",
              "      <td>...</td>\n",
              "      <td>...</td>\n",
              "      <td>...</td>\n",
              "      <td>...</td>\n",
              "      <td>...</td>\n",
              "      <td>...</td>\n",
              "      <td>...</td>\n",
              "      <td>...</td>\n",
              "      <td>...</td>\n",
              "      <td>...</td>\n",
              "      <td>...</td>\n",
              "      <td>...</td>\n",
              "      <td>...</td>\n",
              "    </tr>\n",
              "    <tr>\n",
              "      <th>11665</th>\n",
              "      <td>1</td>\n",
              "      <td>1</td>\n",
              "      <td>1</td>\n",
              "      <td>1</td>\n",
              "      <td>1</td>\n",
              "      <td>0</td>\n",
              "      <td>0</td>\n",
              "      <td>1</td>\n",
              "      <td>1</td>\n",
              "      <td>1</td>\n",
              "      <td>...</td>\n",
              "      <td>1</td>\n",
              "      <td>1</td>\n",
              "      <td>1</td>\n",
              "      <td>0</td>\n",
              "      <td>0</td>\n",
              "      <td>0</td>\n",
              "      <td>0</td>\n",
              "      <td>0</td>\n",
              "      <td>0</td>\n",
              "      <td>0</td>\n",
              "    </tr>\n",
              "    <tr>\n",
              "      <th>6641</th>\n",
              "      <td>0</td>\n",
              "      <td>0</td>\n",
              "      <td>1</td>\n",
              "      <td>0</td>\n",
              "      <td>0</td>\n",
              "      <td>0</td>\n",
              "      <td>1</td>\n",
              "      <td>1</td>\n",
              "      <td>0</td>\n",
              "      <td>1</td>\n",
              "      <td>...</td>\n",
              "      <td>1</td>\n",
              "      <td>1</td>\n",
              "      <td>0</td>\n",
              "      <td>0</td>\n",
              "      <td>0</td>\n",
              "      <td>0</td>\n",
              "      <td>0</td>\n",
              "      <td>0</td>\n",
              "      <td>0</td>\n",
              "      <td>1</td>\n",
              "    </tr>\n",
              "    <tr>\n",
              "      <th>1999</th>\n",
              "      <td>1</td>\n",
              "      <td>1</td>\n",
              "      <td>1</td>\n",
              "      <td>1</td>\n",
              "      <td>1</td>\n",
              "      <td>1</td>\n",
              "      <td>1</td>\n",
              "      <td>0</td>\n",
              "      <td>0</td>\n",
              "      <td>0</td>\n",
              "      <td>...</td>\n",
              "      <td>1</td>\n",
              "      <td>1</td>\n",
              "      <td>0</td>\n",
              "      <td>0</td>\n",
              "      <td>0</td>\n",
              "      <td>1</td>\n",
              "      <td>0</td>\n",
              "      <td>0</td>\n",
              "      <td>1</td>\n",
              "      <td>1</td>\n",
              "    </tr>\n",
              "    <tr>\n",
              "      <th>4332</th>\n",
              "      <td>1</td>\n",
              "      <td>0</td>\n",
              "      <td>1</td>\n",
              "      <td>0</td>\n",
              "      <td>1</td>\n",
              "      <td>0</td>\n",
              "      <td>0</td>\n",
              "      <td>0</td>\n",
              "      <td>0</td>\n",
              "      <td>0</td>\n",
              "      <td>...</td>\n",
              "      <td>1</td>\n",
              "      <td>1</td>\n",
              "      <td>0</td>\n",
              "      <td>0</td>\n",
              "      <td>0</td>\n",
              "      <td>0</td>\n",
              "      <td>0</td>\n",
              "      <td>0</td>\n",
              "      <td>0</td>\n",
              "      <td>1</td>\n",
              "    </tr>\n",
              "    <tr>\n",
              "      <th>3876</th>\n",
              "      <td>0</td>\n",
              "      <td>0</td>\n",
              "      <td>1</td>\n",
              "      <td>0</td>\n",
              "      <td>0</td>\n",
              "      <td>0</td>\n",
              "      <td>0</td>\n",
              "      <td>1</td>\n",
              "      <td>1</td>\n",
              "      <td>1</td>\n",
              "      <td>...</td>\n",
              "      <td>1</td>\n",
              "      <td>1</td>\n",
              "      <td>0</td>\n",
              "      <td>0</td>\n",
              "      <td>0</td>\n",
              "      <td>0</td>\n",
              "      <td>0</td>\n",
              "      <td>0</td>\n",
              "      <td>0</td>\n",
              "      <td>1</td>\n",
              "    </tr>\n",
              "  </tbody>\n",
              "</table>\n",
              "<p>16000 rows × 238 columns</p>\n",
              "</div>\n",
              "      <button class=\"colab-df-convert\" onclick=\"convertToInteractive('df-03e435ed-a660-4725-9776-918fa001add4')\"\n",
              "              title=\"Convert this dataframe to an interactive table.\"\n",
              "              style=\"display:none;\">\n",
              "        \n",
              "  <svg xmlns=\"http://www.w3.org/2000/svg\" height=\"24px\"viewBox=\"0 0 24 24\"\n",
              "       width=\"24px\">\n",
              "    <path d=\"M0 0h24v24H0V0z\" fill=\"none\"/>\n",
              "    <path d=\"M18.56 5.44l.94 2.06.94-2.06 2.06-.94-2.06-.94-.94-2.06-.94 2.06-2.06.94zm-11 1L8.5 8.5l.94-2.06 2.06-.94-2.06-.94L8.5 2.5l-.94 2.06-2.06.94zm10 10l.94 2.06.94-2.06 2.06-.94-2.06-.94-.94-2.06-.94 2.06-2.06.94z\"/><path d=\"M17.41 7.96l-1.37-1.37c-.4-.4-.92-.59-1.43-.59-.52 0-1.04.2-1.43.59L10.3 9.45l-7.72 7.72c-.78.78-.78 2.05 0 2.83L4 21.41c.39.39.9.59 1.41.59.51 0 1.02-.2 1.41-.59l7.78-7.78 2.81-2.81c.8-.78.8-2.07 0-2.86zM5.41 20L4 18.59l7.72-7.72 1.47 1.35L5.41 20z\"/>\n",
              "  </svg>\n",
              "      </button>\n",
              "      \n",
              "  <style>\n",
              "    .colab-df-container {\n",
              "      display:flex;\n",
              "      flex-wrap:wrap;\n",
              "      gap: 12px;\n",
              "    }\n",
              "\n",
              "    .colab-df-convert {\n",
              "      background-color: #E8F0FE;\n",
              "      border: none;\n",
              "      border-radius: 50%;\n",
              "      cursor: pointer;\n",
              "      display: none;\n",
              "      fill: #1967D2;\n",
              "      height: 32px;\n",
              "      padding: 0 0 0 0;\n",
              "      width: 32px;\n",
              "    }\n",
              "\n",
              "    .colab-df-convert:hover {\n",
              "      background-color: #E2EBFA;\n",
              "      box-shadow: 0px 1px 2px rgba(60, 64, 67, 0.3), 0px 1px 3px 1px rgba(60, 64, 67, 0.15);\n",
              "      fill: #174EA6;\n",
              "    }\n",
              "\n",
              "    [theme=dark] .colab-df-convert {\n",
              "      background-color: #3B4455;\n",
              "      fill: #D2E3FC;\n",
              "    }\n",
              "\n",
              "    [theme=dark] .colab-df-convert:hover {\n",
              "      background-color: #434B5C;\n",
              "      box-shadow: 0px 1px 3px 1px rgba(0, 0, 0, 0.15);\n",
              "      filter: drop-shadow(0px 1px 2px rgba(0, 0, 0, 0.3));\n",
              "      fill: #FFFFFF;\n",
              "    }\n",
              "  </style>\n",
              "\n",
              "      <script>\n",
              "        const buttonEl =\n",
              "          document.querySelector('#df-03e435ed-a660-4725-9776-918fa001add4 button.colab-df-convert');\n",
              "        buttonEl.style.display =\n",
              "          google.colab.kernel.accessAllowed ? 'block' : 'none';\n",
              "\n",
              "        async function convertToInteractive(key) {\n",
              "          const element = document.querySelector('#df-03e435ed-a660-4725-9776-918fa001add4');\n",
              "          const dataTable =\n",
              "            await google.colab.kernel.invokeFunction('convertToInteractive',\n",
              "                                                     [key], {});\n",
              "          if (!dataTable) return;\n",
              "\n",
              "          const docLinkHtml = 'Like what you see? Visit the ' +\n",
              "            '<a target=\"_blank\" href=https://colab.research.google.com/notebooks/data_table.ipynb>data table notebook</a>'\n",
              "            + ' to learn more about interactive tables.';\n",
              "          element.innerHTML = '';\n",
              "          dataTable['output_type'] = 'display_data';\n",
              "          await google.colab.output.renderOutput(dataTable, element);\n",
              "          const docLink = document.createElement('div');\n",
              "          docLink.innerHTML = docLinkHtml;\n",
              "          element.appendChild(docLink);\n",
              "        }\n",
              "      </script>\n",
              "    </div>\n",
              "  </div>\n",
              "  "
            ],
            "text/plain": [
              "       PubchemFP2  PubchemFP12  PubchemFP15  PubchemFP16  PubchemFP19  \\\n",
              "12750           1            0            1            1            0   \n",
              "9867            1            0            0            0            1   \n",
              "2476            1            1            1            0            1   \n",
              "4426            1            1            1            0            1   \n",
              "3897            1            1            1            0            1   \n",
              "...           ...          ...          ...          ...          ...   \n",
              "11665           1            1            1            1            1   \n",
              "6641            0            0            1            0            0   \n",
              "1999            1            1            1            1            1   \n",
              "4332            1            0            1            0            1   \n",
              "3876            0            0            1            0            0   \n",
              "\n",
              "       PubchemFP20  PubchemFP33  PubchemFP143  PubchemFP145  PubchemFP146  \\\n",
              "12750            0            0             1             1             1   \n",
              "9867             1            1             0             0             0   \n",
              "2476             1            0             1             1             1   \n",
              "4426             1            0             1             1             1   \n",
              "3897             0            0             0             0             0   \n",
              "...            ...          ...           ...           ...           ...   \n",
              "11665            0            0             1             1             1   \n",
              "6641             0            1             1             0             1   \n",
              "1999             1            1             0             0             0   \n",
              "4332             0            0             0             0             0   \n",
              "3876             0            0             1             1             1   \n",
              "\n",
              "       ...  PubchemFP709  PubchemFP710  PubchemFP712  PubchemFP714  \\\n",
              "12750  ...             0             0             0             0   \n",
              "9867   ...             0             0             0             0   \n",
              "2476   ...             1             1             0             1   \n",
              "4426   ...             1             1             0             0   \n",
              "3897   ...             1             1             0             0   \n",
              "...    ...           ...           ...           ...           ...   \n",
              "11665  ...             1             1             1             0   \n",
              "6641   ...             1             1             0             0   \n",
              "1999   ...             1             1             0             0   \n",
              "4332   ...             1             1             0             0   \n",
              "3876   ...             1             1             0             0   \n",
              "\n",
              "       PubchemFP735  PubchemFP758  PubchemFP777  PubchemFP798  PubchemFP821  \\\n",
              "12750             0             0             0             0             0   \n",
              "9867              0             0             0             0             0   \n",
              "2476              0             0             1             0             0   \n",
              "4426              0             0             0             0             0   \n",
              "3897              0             1             0             0             1   \n",
              "...             ...           ...           ...           ...           ...   \n",
              "11665             0             0             0             0             0   \n",
              "6641              0             0             0             0             0   \n",
              "1999              0             1             0             0             1   \n",
              "4332              0             0             0             0             0   \n",
              "3876              0             0             0             0             0   \n",
              "\n",
              "       PUBCHEM_ACTIVITY_OUTCOME_Inactive  \n",
              "12750                                  0  \n",
              "9867                                   0  \n",
              "2476                                   1  \n",
              "4426                                   1  \n",
              "3897                                   1  \n",
              "...                                  ...  \n",
              "11665                                  0  \n",
              "6641                                   1  \n",
              "1999                                   1  \n",
              "4332                                   1  \n",
              "3876                                   1  \n",
              "\n",
              "[16000 rows x 238 columns]"
            ]
          },
          "execution_count": 5,
          "metadata": {},
          "output_type": "execute_result"
        }
      ],
      "source": [
        "df_out #display data"
      ]
    },
    {
      "cell_type": "code",
      "execution_count": null,
      "metadata": {
        "id": "Zr_tr8cxlGBZ"
      },
      "outputs": [],
      "source": [
        " #separate data into independent and dependent variables\n",
        "from sklearn.model_selection import train_test_split\n",
        "X = df_out.drop(['PUBCHEM_ACTIVITY_OUTCOME_Inactive'], axis=1)\n",
        "y = df_out['PUBCHEM_ACTIVITY_OUTCOME_Inactive']"
      ]
    },
    {
      "cell_type": "code",
      "execution_count": null,
      "metadata": {
        "colab": {
          "base_uri": "https://localhost:8080/"
        },
        "id": "aAHH9EmJqBYM",
        "outputId": "cbdab380-f37d-4940-b38b-9b2b78d0bec5"
      },
      "outputs": [
        {
          "data": {
            "text/plain": [
              "0    8000\n",
              "1    8000\n",
              "Name: PUBCHEM_ACTIVITY_OUTCOME_Inactive, dtype: int64"
            ]
          },
          "execution_count": 7,
          "metadata": {},
          "output_type": "execute_result"
        }
      ],
      "source": [
        "y.value_counts() #shape of dependent variable"
      ]
    },
    {
      "cell_type": "code",
      "execution_count": null,
      "metadata": {
        "id": "mRUfqVOW9tCa"
      },
      "outputs": [],
      "source": [
        "X.to_csv('descriptor_list.csv', index = False) #save data"
      ]
    },
    {
      "cell_type": "code",
      "execution_count": null,
      "metadata": {
        "id": "ZJLIPR3nqYgm"
      },
      "outputs": [],
      "source": [
        "X_train, X_test, y_train, y_test = train_test_split(X, y, test_size=0.1) # split data for training and testing "
      ]
    },
    {
      "cell_type": "code",
      "execution_count": null,
      "metadata": {
        "colab": {
          "base_uri": "https://localhost:8080/"
        },
        "id": "jtAXJj056NGr",
        "outputId": "548e03a8-b9b2-4960-ea60-007f5dda9852"
      },
      "outputs": [
        {
          "data": {
            "text/plain": [
              "(1600,)"
            ]
          },
          "execution_count": 10,
          "metadata": {},
          "output_type": "execute_result"
        }
      ],
      "source": [
        "y_test.shape"
      ]
    },
    {
      "cell_type": "markdown",
      "metadata": {
        "id": "iLSS-YXeq3VG"
      },
      "source": [
        "#https://www.digitalocean.com/community/tutorials/how-to-build-a-deep-learning-model-to-predict-employee-retention-using-keras-and-tensorflow"
      ]
    },
    {
      "cell_type": "code",
      "execution_count": null,
      "metadata": {
        "id": "3zyONmf7q6Pf"
      },
      "outputs": [],
      "source": [
        "#scale tarining data down for better learning and performance\n",
        "from sklearn.preprocessing import StandardScaler\n",
        "sc = StandardScaler()\n",
        "X_train = sc.fit_transform(X_train)\n",
        "X_test = sc.transform(X_test)"
      ]
    },
    {
      "cell_type": "code",
      "execution_count": null,
      "metadata": {
        "colab": {
          "base_uri": "https://localhost:8080/"
        },
        "id": "vFkL67-VrPYl",
        "outputId": "2971ca87-ec25-4441-ea1d-1a3db5339de2"
      },
      "outputs": [
        {
          "data": {
            "text/plain": [
              "array([[ 0.88204154,  0.74853127,  0.72787308, ..., -0.46808036,\n",
              "        -0.39376304, -0.37556086],\n",
              "       [ 0.88204154,  0.74853127,  0.72787308, ..., -0.46808036,\n",
              "        -0.39376304, -0.37556086],\n",
              "       [ 0.88204154, -1.33594954,  0.72787308, ..., -0.46808036,\n",
              "        -0.39376304, -0.37556086],\n",
              "       ...,\n",
              "       [-1.13373345,  0.74853127,  0.72787308, ..., -0.46808036,\n",
              "        -0.39376304, -0.37556086],\n",
              "       [-1.13373345,  0.74853127,  0.72787308, ..., -0.46808036,\n",
              "        -0.39376304, -0.37556086],\n",
              "       [-1.13373345,  0.74853127,  0.72787308, ..., -0.46808036,\n",
              "        -0.39376304, -0.37556086]])"
            ]
          },
          "execution_count": 12,
          "metadata": {},
          "output_type": "execute_result"
        }
      ],
      "source": [
        "X_test"
      ]
    },
    {
      "cell_type": "code",
      "execution_count": null,
      "metadata": {
        "colab": {
          "base_uri": "https://localhost:8080/"
        },
        "id": "fJS2wCrXxL8W",
        "outputId": "5fcb2169-26c8-4404-cbd6-04e221832671"
      },
      "outputs": [
        {
          "data": {
            "text/plain": [
              "(14400, 237)"
            ]
          },
          "execution_count": 13,
          "metadata": {},
          "output_type": "execute_result"
        }
      ],
      "source": [
        "X_train.shape"
      ]
    },
    {
      "cell_type": "markdown",
      "metadata": {
        "id": "mm8hBNk_w6Eb"
      },
      "source": [
        "Artificial Neural Network"
      ]
    },
    {
      "cell_type": "code",
      "execution_count": null,
      "metadata": {
        "id": "jTARLYsaw2rm"
      },
      "outputs": [],
      "source": [
        "import keras\n",
        "from keras.models import Sequential\n",
        "from keras.layers import Dense\n",
        "from keras.layers import Dropout\n",
        "from sklearn.model_selection import GridSearchCV\n",
        "from keras.wrappers.scikit_learn import KerasClassifier\n",
        "from sklearn.model_selection import cross_val_score\n",
        "\n",
        "def ANN_classifier(optimizer):\n",
        "    classifier = Sequential()\n",
        "    classifier.add(Dense(127, kernel_initializer = \"uniform\", activation = \"relu\", input_dim=237))\n",
        "    classifier.add(Dropout(rate = 0.1))\n",
        "    classifier.add(Dense(127, kernel_initializer = 'uniform', activation = 'relu'))\n",
        "    classifier.add(Dropout(rate = 0.1))\n",
        "    classifier.add(Dense(1, kernel_initializer = \"uniform\", activation = \"sigmoid\"))\n",
        "    classifier.compile(optimizer= \"adam\",loss = \"binary_crossentropy\",metrics = [\"accuracy\"])\n",
        "    return classifier"
      ]
    },
    {
      "cell_type": "code",
      "execution_count": null,
      "metadata": {
        "colab": {
          "base_uri": "https://localhost:8080/"
        },
        "id": "KQS8DddN0e4v",
        "outputId": "77c5374f-e4be-478c-85fd-7ac23527d681"
      },
      "outputs": [
        {
          "name": "stderr",
          "output_type": "stream",
          "text": [
            "/usr/local/lib/python3.7/dist-packages/ipykernel_launcher.py:1: DeprecationWarning: KerasClassifier is deprecated, use Sci-Keras (https://github.com/adriangb/scikeras) instead. See https://www.adriangb.com/scikeras/stable/migration.html for help migrating.\n",
            "  \"\"\"Entry point for launching an IPython kernel.\n"
          ]
        }
      ],
      "source": [
        "classifier = KerasClassifier(build_fn = ANN_classifier, batch_size=10, nb_epoch=10) # define classifier "
      ]
    },
    {
      "cell_type": "markdown",
      "metadata": {
        "id": "5phG0OG13Upp"
      },
      "source": [
        "Perform grid search"
      ]
    },
    {
      "cell_type": "code",
      "execution_count": null,
      "metadata": {
        "colab": {
          "base_uri": "https://localhost:8080/"
        },
        "id": "I9BYH8L8ZeAP",
        "outputId": "749170bd-b33a-4641-ac81-91e42c0f192d"
      },
      "outputs": [
        {
          "name": "stderr",
          "output_type": "stream",
          "text": [
            "/usr/local/lib/python3.7/dist-packages/ipykernel_launcher.py:1: DeprecationWarning: KerasClassifier is deprecated, use Sci-Keras (https://github.com/adriangb/scikeras) instead. See https://www.adriangb.com/scikeras/stable/migration.html for help migrating.\n",
            "  \"\"\"Entry point for launching an IPython kernel.\n"
          ]
        },
        {
          "name": "stdout",
          "output_type": "stream",
          "text": [
            "Epoch 1/2\n",
            "360/360 [==============================] - 3s 5ms/step - loss: 0.1591 - accuracy: 0.9463\n",
            "Epoch 2/2\n",
            "360/360 [==============================] - 1s 3ms/step - loss: 0.0696 - accuracy: 0.9781\n",
            "Epoch 1/2\n",
            "360/360 [==============================] - 1s 3ms/step - loss: 0.1576 - accuracy: 0.9469\n",
            "Epoch 2/2\n",
            "360/360 [==============================] - 1s 2ms/step - loss: 0.0677 - accuracy: 0.9792\n",
            "Epoch 1/2\n",
            "360/360 [==============================] - 1s 2ms/step - loss: 0.1614 - accuracy: 0.9460\n",
            "Epoch 2/2\n",
            "360/360 [==============================] - 1s 2ms/step - loss: 0.0686 - accuracy: 0.9792\n",
            "Epoch 1/2\n",
            "360/360 [==============================] - 1s 3ms/step - loss: 0.1468 - accuracy: 0.9494\n",
            "Epoch 2/2\n",
            "360/360 [==============================] - 1s 3ms/step - loss: 0.0639 - accuracy: 0.9812\n",
            "Epoch 1/3\n",
            "360/360 [==============================] - 2s 3ms/step - loss: 0.1599 - accuracy: 0.9426\n",
            "Epoch 2/3\n",
            "360/360 [==============================] - 1s 3ms/step - loss: 0.0681 - accuracy: 0.9807\n",
            "Epoch 3/3\n",
            "360/360 [==============================] - 1s 2ms/step - loss: 0.0454 - accuracy: 0.9878\n",
            "Epoch 1/3\n",
            "360/360 [==============================] - 1s 2ms/step - loss: 0.1501 - accuracy: 0.9517\n",
            "Epoch 2/3\n",
            "360/360 [==============================] - 2s 5ms/step - loss: 0.0637 - accuracy: 0.9803\n",
            "Epoch 3/3\n",
            "360/360 [==============================] - 2s 5ms/step - loss: 0.0517 - accuracy: 0.9828\n",
            "Epoch 1/3\n",
            "360/360 [==============================] - 1s 2ms/step - loss: 0.1606 - accuracy: 0.9446\n",
            "Epoch 2/3\n",
            "360/360 [==============================] - 1s 2ms/step - loss: 0.0694 - accuracy: 0.9769\n",
            "Epoch 3/3\n",
            "360/360 [==============================] - 1s 2ms/step - loss: 0.0485 - accuracy: 0.9856\n",
            "Epoch 1/3\n",
            "360/360 [==============================] - 1s 3ms/step - loss: 0.1517 - accuracy: 0.9464\n",
            "Epoch 2/3\n",
            "360/360 [==============================] - 1s 3ms/step - loss: 0.0676 - accuracy: 0.9801\n",
            "Epoch 3/3\n",
            "360/360 [==============================] - 1s 2ms/step - loss: 0.0497 - accuracy: 0.9840\n",
            "Epoch 1/2\n",
            "206/206 [==============================] - 1s 3ms/step - loss: 0.1763 - accuracy: 0.9410\n",
            "Epoch 2/2\n",
            "206/206 [==============================] - 1s 3ms/step - loss: 0.0693 - accuracy: 0.9792\n",
            "Epoch 1/2\n",
            "206/206 [==============================] - 2s 6ms/step - loss: 0.1729 - accuracy: 0.9408\n",
            "Epoch 2/2\n",
            "206/206 [==============================] - 1s 6ms/step - loss: 0.0649 - accuracy: 0.9794\n",
            "Epoch 1/2\n",
            "206/206 [==============================] - 3s 6ms/step - loss: 0.1881 - accuracy: 0.9326\n",
            "Epoch 2/2\n",
            "206/206 [==============================] - 1s 5ms/step - loss: 0.0660 - accuracy: 0.9807\n",
            "Epoch 1/2\n",
            "206/206 [==============================] - 3s 6ms/step - loss: 0.1729 - accuracy: 0.9401\n",
            "Epoch 2/2\n",
            "206/206 [==============================] - 1s 6ms/step - loss: 0.0647 - accuracy: 0.9799\n",
            "Epoch 1/3\n",
            "206/206 [==============================] - 2s 4ms/step - loss: 0.1853 - accuracy: 0.9337\n",
            "Epoch 2/3\n",
            "206/206 [==============================] - 1s 5ms/step - loss: 0.0719 - accuracy: 0.9767\n",
            "Epoch 3/3\n",
            "206/206 [==============================] - 1s 5ms/step - loss: 0.0489 - accuracy: 0.9854\n",
            "Epoch 1/3\n",
            "206/206 [==============================] - 2s 4ms/step - loss: 0.1777 - accuracy: 0.9378\n",
            "Epoch 2/3\n",
            "206/206 [==============================] - 1s 3ms/step - loss: 0.0631 - accuracy: 0.9796\n",
            "Epoch 3/3\n",
            "206/206 [==============================] - 1s 3ms/step - loss: 0.0489 - accuracy: 0.9861\n",
            "Epoch 1/3\n",
            "206/206 [==============================] - 1s 3ms/step - loss: 0.1779 - accuracy: 0.9393\n",
            "Epoch 2/3\n",
            "206/206 [==============================] - 1s 3ms/step - loss: 0.0685 - accuracy: 0.9783\n",
            "Epoch 3/3\n",
            "206/206 [==============================] - 1s 3ms/step - loss: 0.0503 - accuracy: 0.9858\n",
            "Epoch 1/3\n",
            "206/206 [==============================] - 2s 3ms/step - loss: 0.1769 - accuracy: 0.9350\n",
            "Epoch 2/3\n",
            "206/206 [==============================] - 1s 3ms/step - loss: 0.0646 - accuracy: 0.9822\n",
            "Epoch 3/3\n",
            "206/206 [==============================] - 1s 3ms/step - loss: 0.0461 - accuracy: 0.9874\n",
            "Epoch 1/3\n",
            "412/412 [==============================] - 2s 3ms/step - loss: 0.1285 - accuracy: 0.9557\n",
            "Epoch 2/3\n",
            "412/412 [==============================] - 1s 3ms/step - loss: 0.0526 - accuracy: 0.9864\n",
            "Epoch 3/3\n",
            "412/412 [==============================] - 1s 3ms/step - loss: 0.0404 - accuracy: 0.9888\n"
          ]
        }
      ],
      "source": [
        "classifier = KerasClassifier(build_fn = ANN_classifier)\n",
        "params = {\n",
        "    'batch_size':[20,35],\n",
        "    'epochs':[2,3],\n",
        "    'optimizer':['adam','rmsprop']\n",
        "}\n",
        "grid_search = GridSearchCV(estimator=classifier,\n",
        "                           param_grid=params,\n",
        "                           scoring=\"accuracy\",\n",
        "                           cv=2)\n",
        "grid_search = grid_search.fit(X_train, y_train)\n",
        "ANN = grid_search\n",
        "best_param = grid_search.best_params_\n",
        "best_accuracy = grid_search.best_score_\n"
      ]
    },
    {
      "cell_type": "code",
      "execution_count": null,
      "metadata": {
        "colab": {
          "base_uri": "https://localhost:8080/"
        },
        "id": "Zaq1AJjE344M",
        "outputId": "7008e9f2-d5b8-4a6c-fd72-c27510c1c500"
      },
      "outputs": [
        {
          "data": {
            "text/plain": [
              "{'batch_size': 35, 'epochs': 3, 'optimizer': 'adam'}"
            ]
          },
          "execution_count": 17,
          "metadata": {},
          "output_type": "execute_result"
        }
      ],
      "source": [
        "best_param"
      ]
    },
    {
      "cell_type": "code",
      "execution_count": null,
      "metadata": {
        "colab": {
          "base_uri": "https://localhost:8080/"
        },
        "id": "AhW6PktG38N4",
        "outputId": "e209b0ab-986e-4c9a-b15f-611dd3d7b4c9"
      },
      "outputs": [
        {
          "data": {
            "text/plain": [
              "0.9861111111111112"
            ]
          },
          "execution_count": 18,
          "metadata": {},
          "output_type": "execute_result"
        }
      ],
      "source": [
        "best_accuracy"
      ]
    },
    {
      "cell_type": "code",
      "execution_count": null,
      "metadata": {
        "id": "OdNZd-BBerFo"
      },
      "outputs": [],
      "source": [
        "#Visualise structure of ANN \n",
        "!pip install ann_visualizer\n",
        "from ann_visualizer.visualize import ann_viz;\n",
        "from graphviz import Source\n",
        "ann_viz(classifier, title=\"neural network\")"
      ]
    },
    {
      "cell_type": "markdown",
      "metadata": {
        "id": "fC6KvUHaQaQg"
      },
      "source": [
        "SVM"
      ]
    },
    {
      "cell_type": "code",
      "execution_count": null,
      "metadata": {
        "colab": {
          "base_uri": "https://localhost:8080/"
        },
        "id": "cmRSYrj7XX12",
        "outputId": "51023119-440e-4ea6-f6f8-14751e14d9e4"
      },
      "outputs": [
        {
          "name": "stdout",
          "output_type": "stream",
          "text": [
            "Fitting 2 folds for each of 25 candidates, totalling 50 fits\n",
            "[CV 1/2] END ........C=0.1, gamma=1, kernel=rbf;, score=0.811 total time=  37.7s\n",
            "[CV 2/2] END ........C=0.1, gamma=1, kernel=rbf;, score=0.807 total time=  27.4s\n",
            "[CV 1/2] END ......C=0.1, gamma=0.1, kernel=rbf;, score=0.878 total time=  26.5s\n",
            "[CV 2/2] END ......C=0.1, gamma=0.1, kernel=rbf;, score=0.874 total time=  27.9s\n",
            "[CV 1/2] END .....C=0.1, gamma=0.01, kernel=rbf;, score=0.975 total time=   9.4s\n",
            "[CV 2/2] END .....C=0.1, gamma=0.01, kernel=rbf;, score=0.966 total time=   8.5s\n",
            "[CV 1/2] END ....C=0.1, gamma=0.001, kernel=rbf;, score=0.945 total time=   9.3s\n",
            "[CV 2/2] END ....C=0.1, gamma=0.001, kernel=rbf;, score=0.939 total time=   9.1s\n",
            "[CV 1/2] END ...C=0.1, gamma=0.0001, kernel=rbf;, score=0.874 total time=  21.3s\n",
            "[CV 2/2] END ...C=0.1, gamma=0.0001, kernel=rbf;, score=0.868 total time=  19.3s\n",
            "[CV 1/2] END ..........C=1, gamma=1, kernel=rbf;, score=0.991 total time=  16.4s\n",
            "[CV 2/2] END ..........C=1, gamma=1, kernel=rbf;, score=0.988 total time=  15.6s\n",
            "[CV 1/2] END ........C=1, gamma=0.1, kernel=rbf;, score=0.992 total time=  16.5s\n",
            "[CV 2/2] END ........C=1, gamma=0.1, kernel=rbf;, score=0.989 total time=  16.2s\n",
            "[CV 1/2] END .......C=1, gamma=0.01, kernel=rbf;, score=0.991 total time=   5.1s\n",
            "[CV 2/2] END .......C=1, gamma=0.01, kernel=rbf;, score=0.990 total time=   5.1s\n",
            "[CV 1/2] END ......C=1, gamma=0.001, kernel=rbf;, score=0.976 total time=   4.9s\n",
            "[CV 2/2] END ......C=1, gamma=0.001, kernel=rbf;, score=0.969 total time=   4.2s\n",
            "[CV 1/2] END .....C=1, gamma=0.0001, kernel=rbf;, score=0.937 total time=   9.2s\n",
            "[CV 2/2] END .....C=1, gamma=0.0001, kernel=rbf;, score=0.931 total time=   8.4s\n",
            "[CV 1/2] END .........C=10, gamma=1, kernel=rbf;, score=0.991 total time=  14.3s\n",
            "[CV 2/2] END .........C=10, gamma=1, kernel=rbf;, score=0.988 total time=  14.0s\n",
            "[CV 1/2] END .......C=10, gamma=0.1, kernel=rbf;, score=0.992 total time=  14.2s\n",
            "[CV 2/2] END .......C=10, gamma=0.1, kernel=rbf;, score=0.991 total time=  14.5s\n",
            "[CV 1/2] END ......C=10, gamma=0.01, kernel=rbf;, score=0.992 total time=   5.2s\n",
            "[CV 2/2] END ......C=10, gamma=0.01, kernel=rbf;, score=0.993 total time=   5.1s\n",
            "[CV 1/2] END .....C=10, gamma=0.001, kernel=rbf;, score=0.989 total time=   2.8s\n",
            "[CV 2/2] END .....C=10, gamma=0.001, kernel=rbf;, score=0.986 total time=   2.5s\n",
            "[CV 1/2] END ....C=10, gamma=0.0001, kernel=rbf;, score=0.966 total time=   5.2s\n",
            "[CV 2/2] END ....C=10, gamma=0.0001, kernel=rbf;, score=0.956 total time=   5.0s\n",
            "[CV 1/2] END ........C=100, gamma=1, kernel=rbf;, score=0.991 total time=  14.3s\n",
            "[CV 2/2] END ........C=100, gamma=1, kernel=rbf;, score=0.988 total time=  14.9s\n",
            "[CV 1/2] END ......C=100, gamma=0.1, kernel=rbf;, score=0.992 total time=  16.1s\n",
            "[CV 2/2] END ......C=100, gamma=0.1, kernel=rbf;, score=0.991 total time=  13.2s\n",
            "[CV 1/2] END .....C=100, gamma=0.01, kernel=rbf;, score=0.992 total time=   5.0s\n",
            "[CV 2/2] END .....C=100, gamma=0.01, kernel=rbf;, score=0.993 total time=   4.7s\n",
            "[CV 1/2] END ....C=100, gamma=0.001, kernel=rbf;, score=0.991 total time=   2.6s\n",
            "[CV 2/2] END ....C=100, gamma=0.001, kernel=rbf;, score=0.989 total time=   2.3s\n",
            "[CV 1/2] END ...C=100, gamma=0.0001, kernel=rbf;, score=0.981 total time=   3.1s\n",
            "[CV 2/2] END ...C=100, gamma=0.0001, kernel=rbf;, score=0.976 total time=   3.0s\n",
            "[CV 1/2] END .......C=1000, gamma=1, kernel=rbf;, score=0.991 total time=  15.6s\n",
            "[CV 2/2] END .......C=1000, gamma=1, kernel=rbf;, score=0.988 total time=  14.4s\n",
            "[CV 1/2] END .....C=1000, gamma=0.1, kernel=rbf;, score=0.992 total time=  13.7s\n",
            "[CV 2/2] END .....C=1000, gamma=0.1, kernel=rbf;, score=0.991 total time=  14.4s\n",
            "[CV 1/2] END ....C=1000, gamma=0.01, kernel=rbf;, score=0.992 total time=   4.9s\n",
            "[CV 2/2] END ....C=1000, gamma=0.01, kernel=rbf;, score=0.993 total time=   4.7s\n",
            "[CV 1/2] END ...C=1000, gamma=0.001, kernel=rbf;, score=0.989 total time=   2.3s\n",
            "[CV 2/2] END ...C=1000, gamma=0.001, kernel=rbf;, score=0.988 total time=   2.3s\n",
            "[CV 1/2] END ..C=1000, gamma=0.0001, kernel=rbf;, score=0.987 total time=   3.0s\n",
            "[CV 2/2] END ..C=1000, gamma=0.0001, kernel=rbf;, score=0.984 total time=   2.5s\n",
            "{'C': 100, 'gamma': 0.01, 'kernel': 'rbf'}\n",
            "SVC(C=100, gamma=0.01)\n",
            "              precision    recall  f1-score   support\n",
            "\n",
            "           0       0.99      0.99      0.99       783\n",
            "           1       0.99      0.99      0.99       817\n",
            "\n",
            "    accuracy                           0.99      1600\n",
            "   macro avg       0.99      0.99      0.99      1600\n",
            "weighted avg       0.99      0.99      0.99      1600\n",
            "\n"
          ]
        }
      ],
      "source": [
        "from sklearn.svm import SVC  # Importing SVclassifier from sklearn\n",
        "from sklearn.model_selection import GridSearchCV  #GridSearch for hyperparameter tuning\n",
        "from sklearn.metrics import classification_report, confusion_matrix   #performance evaluation\n",
        " \n",
        "# defining parameter range\n",
        "param_grid = {'C': [0.1, 1, 10, 100, 1000],\n",
        "              'gamma': [1, 0.1, 0.01, 0.001, 0.0001],\n",
        "              'kernel': ['rbf']}\n",
        " \n",
        "svm_model = GridSearchCV(SVC(), param_grid, refit = True, verbose = 3, cv= 2) #2folds cross validation\n",
        " \n",
        "# fitting the model for grid search\n",
        "svm_model.fit(X_train, y_train)\n",
        "\n",
        "# print best parameter after tuning\n",
        "print(svm_model.best_params_)\n",
        " \n",
        "# print how our model looks after hyper-parameter tuning\n",
        "print(svm_model.best_estimator_)\n",
        "\n",
        "grid_predictions = svm_model.predict(X_test) #make prediction using test set\n",
        " \n",
        "# print classification report\n",
        "print(classification_report(y_test, grid_predictions))"
      ]
    },
    {
      "cell_type": "markdown",
      "metadata": {
        "id": "MeniW23gnkgZ"
      },
      "source": [
        "SVM validation of performance\n"
      ]
    },
    {
      "cell_type": "code",
      "execution_count": null,
      "metadata": {
        "colab": {
          "base_uri": "https://localhost:8080/"
        },
        "id": "Rf9M-F6_ef0V",
        "outputId": "8a79c8ab-8122-431a-f7e7-607c14819d00"
      },
      "outputs": [
        {
          "name": "stdout",
          "output_type": "stream",
          "text": [
            "  Name  Accuracy  precision    recall        f1\n",
            "0  SVM  0.991875   0.992647  0.991432  0.992039\n",
            "              precision    recall  f1-score   support\n",
            "\n",
            "      Active       0.99      0.99      0.99       783\n",
            "    Inactive       0.99      0.99      0.99       817\n",
            "\n",
            "    accuracy                           0.99      1600\n",
            "   macro avg       0.99      0.99      0.99      1600\n",
            "weighted avg       0.99      0.99      0.99      1600\n",
            "\n"
          ]
        },
        {
          "data": {
            "text/plain": [
              "array([[777,   7],\n",
              "       [  6, 810]])"
            ]
          },
          "execution_count": 22,
          "metadata": {},
          "output_type": "execute_result"
        }
      ],
      "source": [
        "#repeat prediction using model\n",
        "y_pred = svm_model.predict(X_test)\n",
        "\n",
        "#import necessary evaluation models\n",
        "from sklearn.metrics import accuracy_score \n",
        "from sklearn.metrics import precision_score\n",
        "from sklearn.metrics import recall_score\n",
        "from sklearn.metrics import f1_score\n",
        "from sklearn.metrics import classification_report\n",
        "\n",
        "acc = accuracy_score(y_test, y_pred)\n",
        "prec = precision_score(y_test, y_pred)\n",
        "recall = recall_score(y_test, y_pred)\n",
        "f1 = f1_score(y_test, y_pred)\n",
        "\n",
        "#save performance\n",
        "model_name = pd.Series(['SVM'], name='Name')\n",
        "accuracy = pd.Series(acc, name='Accuracy')\n",
        "precision = pd.Series(prec, name='precision')\n",
        "recall = pd.Series(recall, name='recall')\n",
        "f1 = pd.Series(f1, name='f1')\n",
        "\n",
        "#Display performance\n",
        "performance_svm = pd.concat([model_name, accuracy, precision, recall, f1], axis=1)\n",
        "print(performance_svm)\n",
        "\n",
        "# Display confusion matrix\n",
        "target_names = ['Active', 'Inactive']\n",
        "print(classification_report(y_test, y_pred, target_names=target_names))\n",
        "cf_matrix=confusion_matrix(y_pred, y_test)\n",
        "cf_matrix"
      ]
    },
    {
      "cell_type": "markdown",
      "metadata": {
        "id": "uIe19r0lrtr8"
      },
      "source": [
        "MCC for SVC"
      ]
    },
    {
      "cell_type": "code",
      "execution_count": null,
      "metadata": {
        "colab": {
          "base_uri": "https://localhost:8080/",
          "height": 81
        },
        "id": "3cyHUWEBlPwx",
        "outputId": "c6dab13f-1409-4c93-9764-f5a6bf96b7e6"
      },
      "outputs": [
        {
          "data": {
            "text/html": [
              "\n",
              "  <div id=\"df-55d7929f-f9ee-45eb-851d-c1af05a47c4e\">\n",
              "    <div class=\"colab-df-container\">\n",
              "      <div>\n",
              "<style scoped>\n",
              "    .dataframe tbody tr th:only-of-type {\n",
              "        vertical-align: middle;\n",
              "    }\n",
              "\n",
              "    .dataframe tbody tr th {\n",
              "        vertical-align: top;\n",
              "    }\n",
              "\n",
              "    .dataframe thead th {\n",
              "        text-align: right;\n",
              "    }\n",
              "</style>\n",
              "<table border=\"1\" class=\"dataframe\">\n",
              "  <thead>\n",
              "    <tr style=\"text-align: right;\">\n",
              "      <th></th>\n",
              "      <th>Name</th>\n",
              "      <th>MCC_train</th>\n",
              "      <th>Gridsearchcv</th>\n",
              "      <th>MCC_test</th>\n",
              "    </tr>\n",
              "  </thead>\n",
              "  <tbody>\n",
              "    <tr>\n",
              "      <th>0</th>\n",
              "      <td>SVC</td>\n",
              "      <td>0.999445</td>\n",
              "      <td>0.991875</td>\n",
              "      <td>0.983744</td>\n",
              "    </tr>\n",
              "  </tbody>\n",
              "</table>\n",
              "</div>\n",
              "      <button class=\"colab-df-convert\" onclick=\"convertToInteractive('df-55d7929f-f9ee-45eb-851d-c1af05a47c4e')\"\n",
              "              title=\"Convert this dataframe to an interactive table.\"\n",
              "              style=\"display:none;\">\n",
              "        \n",
              "  <svg xmlns=\"http://www.w3.org/2000/svg\" height=\"24px\"viewBox=\"0 0 24 24\"\n",
              "       width=\"24px\">\n",
              "    <path d=\"M0 0h24v24H0V0z\" fill=\"none\"/>\n",
              "    <path d=\"M18.56 5.44l.94 2.06.94-2.06 2.06-.94-2.06-.94-.94-2.06-.94 2.06-2.06.94zm-11 1L8.5 8.5l.94-2.06 2.06-.94-2.06-.94L8.5 2.5l-.94 2.06-2.06.94zm10 10l.94 2.06.94-2.06 2.06-.94-2.06-.94-.94-2.06-.94 2.06-2.06.94z\"/><path d=\"M17.41 7.96l-1.37-1.37c-.4-.4-.92-.59-1.43-.59-.52 0-1.04.2-1.43.59L10.3 9.45l-7.72 7.72c-.78.78-.78 2.05 0 2.83L4 21.41c.39.39.9.59 1.41.59.51 0 1.02-.2 1.41-.59l7.78-7.78 2.81-2.81c.8-.78.8-2.07 0-2.86zM5.41 20L4 18.59l7.72-7.72 1.47 1.35L5.41 20z\"/>\n",
              "  </svg>\n",
              "      </button>\n",
              "      \n",
              "  <style>\n",
              "    .colab-df-container {\n",
              "      display:flex;\n",
              "      flex-wrap:wrap;\n",
              "      gap: 12px;\n",
              "    }\n",
              "\n",
              "    .colab-df-convert {\n",
              "      background-color: #E8F0FE;\n",
              "      border: none;\n",
              "      border-radius: 50%;\n",
              "      cursor: pointer;\n",
              "      display: none;\n",
              "      fill: #1967D2;\n",
              "      height: 32px;\n",
              "      padding: 0 0 0 0;\n",
              "      width: 32px;\n",
              "    }\n",
              "\n",
              "    .colab-df-convert:hover {\n",
              "      background-color: #E2EBFA;\n",
              "      box-shadow: 0px 1px 2px rgba(60, 64, 67, 0.3), 0px 1px 3px 1px rgba(60, 64, 67, 0.15);\n",
              "      fill: #174EA6;\n",
              "    }\n",
              "\n",
              "    [theme=dark] .colab-df-convert {\n",
              "      background-color: #3B4455;\n",
              "      fill: #D2E3FC;\n",
              "    }\n",
              "\n",
              "    [theme=dark] .colab-df-convert:hover {\n",
              "      background-color: #434B5C;\n",
              "      box-shadow: 0px 1px 3px 1px rgba(0, 0, 0, 0.15);\n",
              "      filter: drop-shadow(0px 1px 2px rgba(0, 0, 0, 0.3));\n",
              "      fill: #FFFFFF;\n",
              "    }\n",
              "  </style>\n",
              "\n",
              "      <script>\n",
              "        const buttonEl =\n",
              "          document.querySelector('#df-55d7929f-f9ee-45eb-851d-c1af05a47c4e button.colab-df-convert');\n",
              "        buttonEl.style.display =\n",
              "          google.colab.kernel.accessAllowed ? 'block' : 'none';\n",
              "\n",
              "        async function convertToInteractive(key) {\n",
              "          const element = document.querySelector('#df-55d7929f-f9ee-45eb-851d-c1af05a47c4e');\n",
              "          const dataTable =\n",
              "            await google.colab.kernel.invokeFunction('convertToInteractive',\n",
              "                                                     [key], {});\n",
              "          if (!dataTable) return;\n",
              "\n",
              "          const docLinkHtml = 'Like what you see? Visit the ' +\n",
              "            '<a target=\"_blank\" href=https://colab.research.google.com/notebooks/data_table.ipynb>data table notebook</a>'\n",
              "            + ' to learn more about interactive tables.';\n",
              "          element.innerHTML = '';\n",
              "          dataTable['output_type'] = 'display_data';\n",
              "          await google.colab.output.renderOutput(dataTable, element);\n",
              "          const docLink = document.createElement('div');\n",
              "          docLink.innerHTML = docLinkHtml;\n",
              "          element.appendChild(docLink);\n",
              "        }\n",
              "      </script>\n",
              "    </div>\n",
              "  </div>\n",
              "  "
            ],
            "text/plain": [
              "  Name  MCC_train  Gridsearchcv  MCC_test\n",
              "0  SVC   0.999445      0.991875  0.983744"
            ]
          },
          "execution_count": 23,
          "metadata": {},
          "output_type": "execute_result"
        }
      ],
      "source": [
        "from sklearn.metrics import matthews_corrcoef #import mattew correlation coefficient \n",
        "\n",
        "y_train_pred = svm_model.predict(X_train)\n",
        "y_test_pred = svm_model.predict(X_test)\n",
        "mcc_train = matthews_corrcoef(y_train, y_train_pred)\n",
        "mcc_test = matthews_corrcoef(y_test, y_test_pred)\n",
        "\n",
        "\n",
        "model_name = pd.Series(['SVC'], name='Name')\n",
        "mcc_train_series = pd.Series(mcc_train, name='MCC_train')\n",
        "accuracy_svm = pd.Series(acc, name='Gridsearchcv')\n",
        "mcc_test_series = pd.Series(mcc_test, name='MCC_test')\n",
        "\n",
        "performance_metrics_svm = pd.concat([model_name, mcc_train_series, accuracy_svm, mcc_test_series], axis=1)\n",
        "performance_metrics_svm\n"
      ]
    },
    {
      "cell_type": "markdown",
      "metadata": {
        "id": "aYuEtuIaypA7"
      },
      "source": [
        "XGBOOST\n"
      ]
    },
    {
      "cell_type": "code",
      "execution_count": null,
      "metadata": {
        "colab": {
          "base_uri": "https://localhost:8080/"
        },
        "id": "g8aBYuNLyuqI",
        "outputId": "e9fed730-3b49-4415-c661-6e7df6b0e6bf"
      },
      "outputs": [
        {
          "name": "stdout",
          "output_type": "stream",
          "text": [
            "{'gamma': 0.0, 'max_depth': 7, 'min_child_weight': 1, 'reg_alpha': 0.1}\n",
            "XGBClassifier(colsample_bytree=0.8, gamma=0.0, max_depth=7, n_estimators=140,\n",
            "              nthread=4, reg_alpha=0.1, seed=27, subsample=0.8)\n",
            "              precision    recall  f1-score   support\n",
            "\n",
            "           0       0.98      0.99      0.99       783\n",
            "           1       0.99      0.99      0.99       817\n",
            "\n",
            "    accuracy                           0.99      1600\n",
            "   macro avg       0.99      0.99      0.99      1600\n",
            "weighted avg       0.99      0.99      0.99      1600\n",
            "\n"
          ]
        }
      ],
      "source": [
        "from xgboost import XGBClassifier\n",
        "\n",
        "param = {\n",
        " 'max_depth':range(3,10,2),\n",
        " 'min_child_weight':range(1,6,2),\n",
        " 'gamma':[i/10.0 for i in range(0,5)],\n",
        " 'reg_alpha':[1e-5, 1e-2, 0.1, 1, 100]\n",
        "}\n",
        "\n",
        "xgb_model = GridSearchCV(estimator = XGBClassifier( learning_rate =0.1, n_estimators=140,\n",
        " min_child_weight=1, subsample=0.8, colsample_bytree=0.8,\n",
        " objective= 'binary:logistic', nthread=4, scale_pos_weight=1, seed=27), \n",
        " param_grid = param, scoring='roc_auc',n_jobs=4, cv=2)\n",
        "\n",
        "# fitting the model for grid search\n",
        "xgb_model.fit(X_train,y_train)\n",
        "\n",
        "# print best parameter after tuning\n",
        "print(xgb_model.best_params_)\n",
        " \n",
        "# print how our model looks after hyper-parameter tuning\n",
        "print(xgb_model.best_estimator_)\n",
        "\n",
        "grid_predictions = xgb_model.predict(X_test) #make prediction using test set\n",
        " \n",
        "# print classification report\n",
        "print(classification_report(y_test, grid_predictions))"
      ]
    },
    {
      "cell_type": "markdown",
      "metadata": {
        "id": "3Wl8cMzB14BQ"
      },
      "source": [
        "XGBOOST Performance Validation"
      ]
    },
    {
      "cell_type": "code",
      "execution_count": null,
      "metadata": {
        "colab": {
          "base_uri": "https://localhost:8080/"
        },
        "id": "88u06DwF13Hl",
        "outputId": "7234117d-bf2c-43cb-85d2-f8e308f1e8ec"
      },
      "outputs": [
        {
          "name": "stdout",
          "output_type": "stream",
          "text": [
            "  Name  Accuracy  precision    recall        f1\n",
            "0  xgb   0.98875   0.992602  0.985312  0.988943\n",
            "              precision    recall  f1-score   support\n",
            "\n",
            "      Active       0.98      0.99      0.99       783\n",
            "    Inactive       0.99      0.99      0.99       817\n",
            "\n",
            "    accuracy                           0.99      1600\n",
            "   macro avg       0.99      0.99      0.99      1600\n",
            "weighted avg       0.99      0.99      0.99      1600\n",
            "\n"
          ]
        },
        {
          "data": {
            "text/plain": [
              "array([[777,  12],\n",
              "       [  6, 805]])"
            ]
          },
          "execution_count": 27,
          "metadata": {},
          "output_type": "execute_result"
        }
      ],
      "source": [
        "#repeat prediction using model\n",
        "y_pred = xgb_model.predict(X_test)\n",
        "\n",
        "acc = accuracy_score(y_test, y_pred)\n",
        "prec = precision_score(y_test, y_pred)\n",
        "recall = recall_score(y_test, y_pred)\n",
        "f1 = f1_score(y_test, y_pred)\n",
        "\n",
        "#save performance\n",
        "model_name = pd.Series(['xgb'], name='Name')\n",
        "accuracy = pd.Series(acc, name='Accuracy')\n",
        "precision = pd.Series(prec, name='precision')\n",
        "recall = pd.Series(recall, name='recall')\n",
        "f1 = pd.Series(f1, name='f1')\n",
        "\n",
        "#Display performance\n",
        "performance_xgb = pd.concat([model_name, accuracy, precision, recall, f1], axis=1)\n",
        "print(performance_xgb)\n",
        "\n",
        "# Display confusion matrix\n",
        "target_names = ['Active', 'Inactive']\n",
        "print(classification_report(y_test, y_pred, target_names=target_names))\n",
        "cf_matrix=confusion_matrix(y_pred, y_test)\n",
        "cf_matrix"
      ]
    },
    {
      "cell_type": "markdown",
      "metadata": {
        "id": "2-oChtxN2cCp"
      },
      "source": [
        "MCC FOR XGBOOST"
      ]
    },
    {
      "cell_type": "code",
      "execution_count": null,
      "metadata": {
        "colab": {
          "base_uri": "https://localhost:8080/",
          "height": 81
        },
        "id": "FlfQ8L1K2VHn",
        "outputId": "7991d8f5-520a-4c04-f122-2567babec234"
      },
      "outputs": [
        {
          "data": {
            "text/html": [
              "\n",
              "  <div id=\"df-9b21077c-f2f4-498c-8117-5095bc34bd22\">\n",
              "    <div class=\"colab-df-container\">\n",
              "      <div>\n",
              "<style scoped>\n",
              "    .dataframe tbody tr th:only-of-type {\n",
              "        vertical-align: middle;\n",
              "    }\n",
              "\n",
              "    .dataframe tbody tr th {\n",
              "        vertical-align: top;\n",
              "    }\n",
              "\n",
              "    .dataframe thead th {\n",
              "        text-align: right;\n",
              "    }\n",
              "</style>\n",
              "<table border=\"1\" class=\"dataframe\">\n",
              "  <thead>\n",
              "    <tr style=\"text-align: right;\">\n",
              "      <th></th>\n",
              "      <th>Name</th>\n",
              "      <th>MCC_train</th>\n",
              "      <th>Gridsearchcv</th>\n",
              "      <th>MCC_test</th>\n",
              "    </tr>\n",
              "  </thead>\n",
              "  <tbody>\n",
              "    <tr>\n",
              "      <th>0</th>\n",
              "      <td>xgb</td>\n",
              "      <td>0.997918</td>\n",
              "      <td>0.98875</td>\n",
              "      <td>0.977521</td>\n",
              "    </tr>\n",
              "  </tbody>\n",
              "</table>\n",
              "</div>\n",
              "      <button class=\"colab-df-convert\" onclick=\"convertToInteractive('df-9b21077c-f2f4-498c-8117-5095bc34bd22')\"\n",
              "              title=\"Convert this dataframe to an interactive table.\"\n",
              "              style=\"display:none;\">\n",
              "        \n",
              "  <svg xmlns=\"http://www.w3.org/2000/svg\" height=\"24px\"viewBox=\"0 0 24 24\"\n",
              "       width=\"24px\">\n",
              "    <path d=\"M0 0h24v24H0V0z\" fill=\"none\"/>\n",
              "    <path d=\"M18.56 5.44l.94 2.06.94-2.06 2.06-.94-2.06-.94-.94-2.06-.94 2.06-2.06.94zm-11 1L8.5 8.5l.94-2.06 2.06-.94-2.06-.94L8.5 2.5l-.94 2.06-2.06.94zm10 10l.94 2.06.94-2.06 2.06-.94-2.06-.94-.94-2.06-.94 2.06-2.06.94z\"/><path d=\"M17.41 7.96l-1.37-1.37c-.4-.4-.92-.59-1.43-.59-.52 0-1.04.2-1.43.59L10.3 9.45l-7.72 7.72c-.78.78-.78 2.05 0 2.83L4 21.41c.39.39.9.59 1.41.59.51 0 1.02-.2 1.41-.59l7.78-7.78 2.81-2.81c.8-.78.8-2.07 0-2.86zM5.41 20L4 18.59l7.72-7.72 1.47 1.35L5.41 20z\"/>\n",
              "  </svg>\n",
              "      </button>\n",
              "      \n",
              "  <style>\n",
              "    .colab-df-container {\n",
              "      display:flex;\n",
              "      flex-wrap:wrap;\n",
              "      gap: 12px;\n",
              "    }\n",
              "\n",
              "    .colab-df-convert {\n",
              "      background-color: #E8F0FE;\n",
              "      border: none;\n",
              "      border-radius: 50%;\n",
              "      cursor: pointer;\n",
              "      display: none;\n",
              "      fill: #1967D2;\n",
              "      height: 32px;\n",
              "      padding: 0 0 0 0;\n",
              "      width: 32px;\n",
              "    }\n",
              "\n",
              "    .colab-df-convert:hover {\n",
              "      background-color: #E2EBFA;\n",
              "      box-shadow: 0px 1px 2px rgba(60, 64, 67, 0.3), 0px 1px 3px 1px rgba(60, 64, 67, 0.15);\n",
              "      fill: #174EA6;\n",
              "    }\n",
              "\n",
              "    [theme=dark] .colab-df-convert {\n",
              "      background-color: #3B4455;\n",
              "      fill: #D2E3FC;\n",
              "    }\n",
              "\n",
              "    [theme=dark] .colab-df-convert:hover {\n",
              "      background-color: #434B5C;\n",
              "      box-shadow: 0px 1px 3px 1px rgba(0, 0, 0, 0.15);\n",
              "      filter: drop-shadow(0px 1px 2px rgba(0, 0, 0, 0.3));\n",
              "      fill: #FFFFFF;\n",
              "    }\n",
              "  </style>\n",
              "\n",
              "      <script>\n",
              "        const buttonEl =\n",
              "          document.querySelector('#df-9b21077c-f2f4-498c-8117-5095bc34bd22 button.colab-df-convert');\n",
              "        buttonEl.style.display =\n",
              "          google.colab.kernel.accessAllowed ? 'block' : 'none';\n",
              "\n",
              "        async function convertToInteractive(key) {\n",
              "          const element = document.querySelector('#df-9b21077c-f2f4-498c-8117-5095bc34bd22');\n",
              "          const dataTable =\n",
              "            await google.colab.kernel.invokeFunction('convertToInteractive',\n",
              "                                                     [key], {});\n",
              "          if (!dataTable) return;\n",
              "\n",
              "          const docLinkHtml = 'Like what you see? Visit the ' +\n",
              "            '<a target=\"_blank\" href=https://colab.research.google.com/notebooks/data_table.ipynb>data table notebook</a>'\n",
              "            + ' to learn more about interactive tables.';\n",
              "          element.innerHTML = '';\n",
              "          dataTable['output_type'] = 'display_data';\n",
              "          await google.colab.output.renderOutput(dataTable, element);\n",
              "          const docLink = document.createElement('div');\n",
              "          docLink.innerHTML = docLinkHtml;\n",
              "          element.appendChild(docLink);\n",
              "        }\n",
              "      </script>\n",
              "    </div>\n",
              "  </div>\n",
              "  "
            ],
            "text/plain": [
              "  Name  MCC_train  Gridsearchcv  MCC_test\n",
              "0  xgb   0.997918       0.98875  0.977521"
            ]
          },
          "execution_count": 28,
          "metadata": {},
          "output_type": "execute_result"
        }
      ],
      "source": [
        "y_train_pred = xgb_model.predict(X_train)\n",
        "y_test_pred = xgb_model.predict(X_test)\n",
        "mcc_train = matthews_corrcoef(y_train, y_train_pred)\n",
        "mcc_test = matthews_corrcoef(y_test, y_test_pred)\n",
        "\n",
        "\n",
        "model_name = pd.Series(['xgb'], name='Name')\n",
        "mcc_train_series = pd.Series(mcc_train, name='MCC_train')\n",
        "accuracy_xgb = pd.Series(acc, name='Gridsearchcv')\n",
        "mcc_test_series = pd.Series(mcc_test, name='MCC_test')\n",
        "\n",
        "performance_metrics_xgb = pd.concat([model_name, mcc_train_series, accuracy_xgb, mcc_test_series], axis=1)\n",
        "performance_metrics_xgb\n"
      ]
    },
    {
      "cell_type": "markdown",
      "metadata": {
        "id": "OjaE8YH4SSDR"
      },
      "source": [
        "Random forest"
      ]
    },
    {
      "cell_type": "code",
      "execution_count": null,
      "metadata": {
        "colab": {
          "base_uri": "https://localhost:8080/"
        },
        "id": "kst7vZ60SRVd",
        "outputId": "a49e5348-3f70-456b-e0e8-66cb11313412"
      },
      "outputs": [
        {
          "name": "stdout",
          "output_type": "stream",
          "text": [
            "{'criterion': 'entropy', 'max_depth': 8, 'max_features': 'sqrt', 'n_estimators': 300, 'random_state': 18}\n",
            "RandomForestClassifier(criterion='entropy', max_depth=8, max_features='sqrt',\n",
            "                       n_estimators=300, random_state=18)\n",
            "              precision    recall  f1-score   support\n",
            "\n",
            "           0       0.97      0.99      0.98       783\n",
            "           1       0.99      0.97      0.98       817\n",
            "\n",
            "    accuracy                           0.98      1600\n",
            "   macro avg       0.98      0.98      0.98      1600\n",
            "weighted avg       0.98      0.98      0.98      1600\n",
            "\n"
          ]
        }
      ],
      "source": [
        "from sklearn.ensemble import RandomForestClassifier # random forest classifier\n",
        "#hyperparameter tuning\n",
        "grid = { \n",
        "    'n_estimators': [200,300,400,500],\n",
        "    'max_features': ['sqrt', 'log2'],\n",
        "    'max_depth' : [4,5,6,7,8],\n",
        "    'criterion' :['gini', 'entropy'],\n",
        "    'random_state' : [18]\n",
        "}\n",
        "RF_model = GridSearchCV(estimator=RandomForestClassifier(), param_grid=grid, cv= 2)\n",
        "RF_model.fit(X_train, y_train) # fit training data to model\n",
        "\n",
        "\n",
        "# print best parameter after tuning\n",
        "print(RF_model.best_params_)\n",
        " \n",
        "# print how our model looks after hyper-parameter tuning\n",
        "print(RF_model.best_estimator_)\n",
        "\n",
        "grid_predictions = RF_model.predict(X_test) #make prediction using test set\n",
        " \n",
        "# print classification report\n",
        "print(classification_report(y_test, grid_predictions))"
      ]
    },
    {
      "cell_type": "markdown",
      "metadata": {
        "id": "mqSnfQedq86d"
      },
      "source": [
        "Random forest performance evaluation"
      ]
    },
    {
      "cell_type": "code",
      "execution_count": null,
      "metadata": {
        "colab": {
          "base_uri": "https://localhost:8080/"
        },
        "id": "6HCUpFRGQYn6",
        "outputId": "17338d3b-fd76-4f2c-9386-71614484dd35"
      },
      "outputs": [
        {
          "name": "stdout",
          "output_type": "stream",
          "text": [
            "            Name  Accuracy  precision    recall        f1\n",
            "0  Random forest   0.97875   0.987547  0.970624  0.979012\n",
            "              precision    recall  f1-score   support\n",
            "\n",
            "      Active       0.97      0.99      0.98       783\n",
            "    Inactive       0.99      0.97      0.98       817\n",
            "\n",
            "    accuracy                           0.98      1600\n",
            "   macro avg       0.98      0.98      0.98      1600\n",
            "weighted avg       0.98      0.98      0.98      1600\n",
            "\n"
          ]
        },
        {
          "data": {
            "text/plain": [
              "array([[773,  24],\n",
              "       [ 10, 793]])"
            ]
          },
          "execution_count": 30,
          "metadata": {},
          "output_type": "execute_result"
        }
      ],
      "source": [
        "y_pred = RF_model.predict(X_test) # make prediction on test set\n",
        "\n",
        "acc = accuracy_score(y_test, y_pred)\n",
        "prec = precision_score(y_test, y_pred)\n",
        "recall = recall_score(y_test, y_pred)\n",
        "f1 = f1_score(y_test, y_pred)\n",
        "\n",
        "#save performance\n",
        "model_name = pd.Series(['Random forest'], name='Name')\n",
        "accuracy = pd.Series(acc, name='Accuracy')\n",
        "precision = pd.Series(prec, name='precision')\n",
        "recall = pd.Series(recall, name='recall')\n",
        "f1 = pd.Series(f1, name='f1')\n",
        "\n",
        "#Display performance\n",
        "performance_RF = pd.concat([model_name, accuracy, precision, recall, f1], axis=1)\n",
        "print(performance_RF)\n",
        "\n",
        "# Display confusion matrix\n",
        "target_names = ['Active', 'Inactive']\n",
        "print(classification_report(y_test, y_pred, target_names=target_names))\n",
        "cf_matrix=confusion_matrix(y_pred, y_test)\n",
        "cf_matrix"
      ]
    },
    {
      "cell_type": "markdown",
      "metadata": {
        "id": "E4vpodk_rymY"
      },
      "source": [
        "MCC FOR Random Forest"
      ]
    },
    {
      "cell_type": "code",
      "execution_count": null,
      "metadata": {
        "colab": {
          "base_uri": "https://localhost:8080/",
          "height": 81
        },
        "id": "HmfrRFIdryJg",
        "outputId": "24695bbf-4c49-4c1d-9b6c-2793b5545958"
      },
      "outputs": [
        {
          "data": {
            "text/html": [
              "\n",
              "  <div id=\"df-945b7205-74fb-494b-b266-cb915d4c9105\">\n",
              "    <div class=\"colab-df-container\">\n",
              "      <div>\n",
              "<style scoped>\n",
              "    .dataframe tbody tr th:only-of-type {\n",
              "        vertical-align: middle;\n",
              "    }\n",
              "\n",
              "    .dataframe tbody tr th {\n",
              "        vertical-align: top;\n",
              "    }\n",
              "\n",
              "    .dataframe thead th {\n",
              "        text-align: right;\n",
              "    }\n",
              "</style>\n",
              "<table border=\"1\" class=\"dataframe\">\n",
              "  <thead>\n",
              "    <tr style=\"text-align: right;\">\n",
              "      <th></th>\n",
              "      <th>Name</th>\n",
              "      <th>MCC_train</th>\n",
              "      <th>Gridsearchcv</th>\n",
              "      <th>MCC_test</th>\n",
              "    </tr>\n",
              "  </thead>\n",
              "  <tbody>\n",
              "    <tr>\n",
              "      <th>0</th>\n",
              "      <td>Random Forest</td>\n",
              "      <td>0.959761</td>\n",
              "      <td>0.97875</td>\n",
              "      <td>0.957643</td>\n",
              "    </tr>\n",
              "  </tbody>\n",
              "</table>\n",
              "</div>\n",
              "      <button class=\"colab-df-convert\" onclick=\"convertToInteractive('df-945b7205-74fb-494b-b266-cb915d4c9105')\"\n",
              "              title=\"Convert this dataframe to an interactive table.\"\n",
              "              style=\"display:none;\">\n",
              "        \n",
              "  <svg xmlns=\"http://www.w3.org/2000/svg\" height=\"24px\"viewBox=\"0 0 24 24\"\n",
              "       width=\"24px\">\n",
              "    <path d=\"M0 0h24v24H0V0z\" fill=\"none\"/>\n",
              "    <path d=\"M18.56 5.44l.94 2.06.94-2.06 2.06-.94-2.06-.94-.94-2.06-.94 2.06-2.06.94zm-11 1L8.5 8.5l.94-2.06 2.06-.94-2.06-.94L8.5 2.5l-.94 2.06-2.06.94zm10 10l.94 2.06.94-2.06 2.06-.94-2.06-.94-.94-2.06-.94 2.06-2.06.94z\"/><path d=\"M17.41 7.96l-1.37-1.37c-.4-.4-.92-.59-1.43-.59-.52 0-1.04.2-1.43.59L10.3 9.45l-7.72 7.72c-.78.78-.78 2.05 0 2.83L4 21.41c.39.39.9.59 1.41.59.51 0 1.02-.2 1.41-.59l7.78-7.78 2.81-2.81c.8-.78.8-2.07 0-2.86zM5.41 20L4 18.59l7.72-7.72 1.47 1.35L5.41 20z\"/>\n",
              "  </svg>\n",
              "      </button>\n",
              "      \n",
              "  <style>\n",
              "    .colab-df-container {\n",
              "      display:flex;\n",
              "      flex-wrap:wrap;\n",
              "      gap: 12px;\n",
              "    }\n",
              "\n",
              "    .colab-df-convert {\n",
              "      background-color: #E8F0FE;\n",
              "      border: none;\n",
              "      border-radius: 50%;\n",
              "      cursor: pointer;\n",
              "      display: none;\n",
              "      fill: #1967D2;\n",
              "      height: 32px;\n",
              "      padding: 0 0 0 0;\n",
              "      width: 32px;\n",
              "    }\n",
              "\n",
              "    .colab-df-convert:hover {\n",
              "      background-color: #E2EBFA;\n",
              "      box-shadow: 0px 1px 2px rgba(60, 64, 67, 0.3), 0px 1px 3px 1px rgba(60, 64, 67, 0.15);\n",
              "      fill: #174EA6;\n",
              "    }\n",
              "\n",
              "    [theme=dark] .colab-df-convert {\n",
              "      background-color: #3B4455;\n",
              "      fill: #D2E3FC;\n",
              "    }\n",
              "\n",
              "    [theme=dark] .colab-df-convert:hover {\n",
              "      background-color: #434B5C;\n",
              "      box-shadow: 0px 1px 3px 1px rgba(0, 0, 0, 0.15);\n",
              "      filter: drop-shadow(0px 1px 2px rgba(0, 0, 0, 0.3));\n",
              "      fill: #FFFFFF;\n",
              "    }\n",
              "  </style>\n",
              "\n",
              "      <script>\n",
              "        const buttonEl =\n",
              "          document.querySelector('#df-945b7205-74fb-494b-b266-cb915d4c9105 button.colab-df-convert');\n",
              "        buttonEl.style.display =\n",
              "          google.colab.kernel.accessAllowed ? 'block' : 'none';\n",
              "\n",
              "        async function convertToInteractive(key) {\n",
              "          const element = document.querySelector('#df-945b7205-74fb-494b-b266-cb915d4c9105');\n",
              "          const dataTable =\n",
              "            await google.colab.kernel.invokeFunction('convertToInteractive',\n",
              "                                                     [key], {});\n",
              "          if (!dataTable) return;\n",
              "\n",
              "          const docLinkHtml = 'Like what you see? Visit the ' +\n",
              "            '<a target=\"_blank\" href=https://colab.research.google.com/notebooks/data_table.ipynb>data table notebook</a>'\n",
              "            + ' to learn more about interactive tables.';\n",
              "          element.innerHTML = '';\n",
              "          dataTable['output_type'] = 'display_data';\n",
              "          await google.colab.output.renderOutput(dataTable, element);\n",
              "          const docLink = document.createElement('div');\n",
              "          docLink.innerHTML = docLinkHtml;\n",
              "          element.appendChild(docLink);\n",
              "        }\n",
              "      </script>\n",
              "    </div>\n",
              "  </div>\n",
              "  "
            ],
            "text/plain": [
              "            Name  MCC_train  Gridsearchcv  MCC_test\n",
              "0  Random Forest   0.959761       0.97875  0.957643"
            ]
          },
          "execution_count": 31,
          "metadata": {},
          "output_type": "execute_result"
        }
      ],
      "source": [
        "\n",
        "y_train_pred = RF_model.predict(X_train)\n",
        "y_test_pred = RF_model.predict(X_test)\n",
        "mcc_train = matthews_corrcoef(y_train, y_train_pred)\n",
        "mcc_test = matthews_corrcoef(y_test, y_test_pred)\n",
        "\n",
        "\n",
        "model_name = pd.Series(['Random Forest'], name='Name')\n",
        "mcc_train_series = pd.Series(mcc_train, name='MCC_train')\n",
        "accuracy_RF = pd.Series(acc, name='Gridsearchcv')\n",
        "mcc_test_series = pd.Series(mcc_test, name='MCC_test')\n",
        "\n",
        "performance_metrics_RF = pd.concat([model_name, mcc_train_series, accuracy_RF, mcc_test_series], axis=1)\n",
        "performance_metrics_RF\n"
      ]
    },
    {
      "cell_type": "markdown",
      "metadata": {
        "id": "Oc0MFCKuVfoA"
      },
      "source": [
        "Logistic regression"
      ]
    },
    {
      "cell_type": "code",
      "execution_count": null,
      "metadata": {
        "colab": {
          "base_uri": "https://localhost:8080/"
        },
        "id": "RRsHiCBAVb3L",
        "outputId": "db07b334-346e-49bc-8a0e-9129c9c29d7c"
      },
      "outputs": [
        {
          "name": "stderr",
          "output_type": "stream",
          "text": [
            "/usr/local/lib/python3.7/dist-packages/sklearn/linear_model/_logistic.py:818: ConvergenceWarning: lbfgs failed to converge (status=1):\n",
            "STOP: TOTAL NO. of ITERATIONS REACHED LIMIT.\n",
            "\n",
            "Increase the number of iterations (max_iter) or scale the data as shown in:\n",
            "    https://scikit-learn.org/stable/modules/preprocessing.html\n",
            "Please also refer to the documentation for alternative solver options:\n",
            "    https://scikit-learn.org/stable/modules/linear_model.html#logistic-regression\n",
            "  extra_warning_msg=_LOGISTIC_SOLVER_CONVERGENCE_MSG,\n",
            "/usr/local/lib/python3.7/dist-packages/sklearn/linear_model/_logistic.py:818: ConvergenceWarning: lbfgs failed to converge (status=1):\n",
            "STOP: TOTAL NO. of ITERATIONS REACHED LIMIT.\n",
            "\n",
            "Increase the number of iterations (max_iter) or scale the data as shown in:\n",
            "    https://scikit-learn.org/stable/modules/preprocessing.html\n",
            "Please also refer to the documentation for alternative solver options:\n",
            "    https://scikit-learn.org/stable/modules/linear_model.html#logistic-regression\n",
            "  extra_warning_msg=_LOGISTIC_SOLVER_CONVERGENCE_MSG,\n",
            "/usr/local/lib/python3.7/dist-packages/sklearn/linear_model/_sag.py:354: ConvergenceWarning: The max_iter was reached which means the coef_ did not converge\n",
            "  ConvergenceWarning,\n",
            "/usr/local/lib/python3.7/dist-packages/sklearn/linear_model/_sag.py:354: ConvergenceWarning: The max_iter was reached which means the coef_ did not converge\n",
            "  ConvergenceWarning,\n",
            "/usr/local/lib/python3.7/dist-packages/sklearn/linear_model/_sag.py:354: ConvergenceWarning: The max_iter was reached which means the coef_ did not converge\n",
            "  ConvergenceWarning,\n",
            "/usr/local/lib/python3.7/dist-packages/sklearn/linear_model/_sag.py:354: ConvergenceWarning: The max_iter was reached which means the coef_ did not converge\n",
            "  ConvergenceWarning,\n",
            "/usr/local/lib/python3.7/dist-packages/sklearn/linear_model/_logistic.py:818: ConvergenceWarning: lbfgs failed to converge (status=1):\n",
            "STOP: TOTAL NO. of ITERATIONS REACHED LIMIT.\n",
            "\n",
            "Increase the number of iterations (max_iter) or scale the data as shown in:\n",
            "    https://scikit-learn.org/stable/modules/preprocessing.html\n",
            "Please also refer to the documentation for alternative solver options:\n",
            "    https://scikit-learn.org/stable/modules/linear_model.html#logistic-regression\n",
            "  extra_warning_msg=_LOGISTIC_SOLVER_CONVERGENCE_MSG,\n",
            "/usr/local/lib/python3.7/dist-packages/sklearn/linear_model/_logistic.py:818: ConvergenceWarning: lbfgs failed to converge (status=1):\n",
            "STOP: TOTAL NO. of ITERATIONS REACHED LIMIT.\n",
            "\n",
            "Increase the number of iterations (max_iter) or scale the data as shown in:\n",
            "    https://scikit-learn.org/stable/modules/preprocessing.html\n",
            "Please also refer to the documentation for alternative solver options:\n",
            "    https://scikit-learn.org/stable/modules/linear_model.html#logistic-regression\n",
            "  extra_warning_msg=_LOGISTIC_SOLVER_CONVERGENCE_MSG,\n",
            "/usr/local/lib/python3.7/dist-packages/sklearn/linear_model/_logistic.py:818: ConvergenceWarning: lbfgs failed to converge (status=1):\n",
            "STOP: TOTAL NO. of ITERATIONS REACHED LIMIT.\n",
            "\n",
            "Increase the number of iterations (max_iter) or scale the data as shown in:\n",
            "    https://scikit-learn.org/stable/modules/preprocessing.html\n",
            "Please also refer to the documentation for alternative solver options:\n",
            "    https://scikit-learn.org/stable/modules/linear_model.html#logistic-regression\n",
            "  extra_warning_msg=_LOGISTIC_SOLVER_CONVERGENCE_MSG,\n",
            "/usr/local/lib/python3.7/dist-packages/sklearn/linear_model/_logistic.py:818: ConvergenceWarning: lbfgs failed to converge (status=1):\n",
            "STOP: TOTAL NO. of ITERATIONS REACHED LIMIT.\n",
            "\n",
            "Increase the number of iterations (max_iter) or scale the data as shown in:\n",
            "    https://scikit-learn.org/stable/modules/preprocessing.html\n",
            "Please also refer to the documentation for alternative solver options:\n",
            "    https://scikit-learn.org/stable/modules/linear_model.html#logistic-regression\n",
            "  extra_warning_msg=_LOGISTIC_SOLVER_CONVERGENCE_MSG,\n",
            "/usr/local/lib/python3.7/dist-packages/sklearn/linear_model/_logistic.py:818: ConvergenceWarning: lbfgs failed to converge (status=1):\n",
            "STOP: TOTAL NO. of ITERATIONS REACHED LIMIT.\n",
            "\n",
            "Increase the number of iterations (max_iter) or scale the data as shown in:\n",
            "    https://scikit-learn.org/stable/modules/preprocessing.html\n",
            "Please also refer to the documentation for alternative solver options:\n",
            "    https://scikit-learn.org/stable/modules/linear_model.html#logistic-regression\n",
            "  extra_warning_msg=_LOGISTIC_SOLVER_CONVERGENCE_MSG,\n",
            "/usr/local/lib/python3.7/dist-packages/sklearn/linear_model/_logistic.py:818: ConvergenceWarning: lbfgs failed to converge (status=1):\n",
            "STOP: TOTAL NO. of ITERATIONS REACHED LIMIT.\n",
            "\n",
            "Increase the number of iterations (max_iter) or scale the data as shown in:\n",
            "    https://scikit-learn.org/stable/modules/preprocessing.html\n",
            "Please also refer to the documentation for alternative solver options:\n",
            "    https://scikit-learn.org/stable/modules/linear_model.html#logistic-regression\n",
            "  extra_warning_msg=_LOGISTIC_SOLVER_CONVERGENCE_MSG,\n",
            "/usr/local/lib/python3.7/dist-packages/sklearn/linear_model/_logistic.py:818: ConvergenceWarning: lbfgs failed to converge (status=1):\n",
            "STOP: TOTAL NO. of ITERATIONS REACHED LIMIT.\n",
            "\n",
            "Increase the number of iterations (max_iter) or scale the data as shown in:\n",
            "    https://scikit-learn.org/stable/modules/preprocessing.html\n",
            "Please also refer to the documentation for alternative solver options:\n",
            "    https://scikit-learn.org/stable/modules/linear_model.html#logistic-regression\n",
            "  extra_warning_msg=_LOGISTIC_SOLVER_CONVERGENCE_MSG,\n",
            "/usr/local/lib/python3.7/dist-packages/sklearn/linear_model/_logistic.py:818: ConvergenceWarning: lbfgs failed to converge (status=1):\n",
            "STOP: TOTAL NO. of ITERATIONS REACHED LIMIT.\n",
            "\n",
            "Increase the number of iterations (max_iter) or scale the data as shown in:\n",
            "    https://scikit-learn.org/stable/modules/preprocessing.html\n",
            "Please also refer to the documentation for alternative solver options:\n",
            "    https://scikit-learn.org/stable/modules/linear_model.html#logistic-regression\n",
            "  extra_warning_msg=_LOGISTIC_SOLVER_CONVERGENCE_MSG,\n",
            "/usr/local/lib/python3.7/dist-packages/sklearn/linear_model/_logistic.py:818: ConvergenceWarning: lbfgs failed to converge (status=1):\n",
            "STOP: TOTAL NO. of ITERATIONS REACHED LIMIT.\n",
            "\n",
            "Increase the number of iterations (max_iter) or scale the data as shown in:\n",
            "    https://scikit-learn.org/stable/modules/preprocessing.html\n",
            "Please also refer to the documentation for alternative solver options:\n",
            "    https://scikit-learn.org/stable/modules/linear_model.html#logistic-regression\n",
            "  extra_warning_msg=_LOGISTIC_SOLVER_CONVERGENCE_MSG,\n",
            "/usr/local/lib/python3.7/dist-packages/sklearn/linear_model/_logistic.py:818: ConvergenceWarning: lbfgs failed to converge (status=1):\n",
            "STOP: TOTAL NO. of ITERATIONS REACHED LIMIT.\n",
            "\n",
            "Increase the number of iterations (max_iter) or scale the data as shown in:\n",
            "    https://scikit-learn.org/stable/modules/preprocessing.html\n",
            "Please also refer to the documentation for alternative solver options:\n",
            "    https://scikit-learn.org/stable/modules/linear_model.html#logistic-regression\n",
            "  extra_warning_msg=_LOGISTIC_SOLVER_CONVERGENCE_MSG,\n",
            "/usr/local/lib/python3.7/dist-packages/sklearn/linear_model/_logistic.py:818: ConvergenceWarning: lbfgs failed to converge (status=1):\n",
            "STOP: TOTAL NO. of ITERATIONS REACHED LIMIT.\n",
            "\n",
            "Increase the number of iterations (max_iter) or scale the data as shown in:\n",
            "    https://scikit-learn.org/stable/modules/preprocessing.html\n",
            "Please also refer to the documentation for alternative solver options:\n",
            "    https://scikit-learn.org/stable/modules/linear_model.html#logistic-regression\n",
            "  extra_warning_msg=_LOGISTIC_SOLVER_CONVERGENCE_MSG,\n",
            "/usr/local/lib/python3.7/dist-packages/sklearn/linear_model/_logistic.py:818: ConvergenceWarning: lbfgs failed to converge (status=1):\n",
            "STOP: TOTAL NO. of ITERATIONS REACHED LIMIT.\n",
            "\n",
            "Increase the number of iterations (max_iter) or scale the data as shown in:\n",
            "    https://scikit-learn.org/stable/modules/preprocessing.html\n",
            "Please also refer to the documentation for alternative solver options:\n",
            "    https://scikit-learn.org/stable/modules/linear_model.html#logistic-regression\n",
            "  extra_warning_msg=_LOGISTIC_SOLVER_CONVERGENCE_MSG,\n",
            "/usr/local/lib/python3.7/dist-packages/sklearn/model_selection/_validation.py:372: FitFailedWarning: \n",
            "4 fits failed out of a total of 30.\n",
            "The score on these train-test partitions for these parameters will be set to nan.\n",
            "If these failures are not expected, you can try to debug them by setting error_score='raise'.\n",
            "\n",
            "Below are more details about the failures:\n",
            "--------------------------------------------------------------------------------\n",
            "2 fits failed with the following error:\n",
            "Traceback (most recent call last):\n",
            "  File \"/usr/local/lib/python3.7/dist-packages/sklearn/model_selection/_validation.py\", line 680, in _fit_and_score\n",
            "    estimator.fit(X_train, y_train, **fit_params)\n",
            "  File \"/usr/local/lib/python3.7/dist-packages/sklearn/linear_model/_logistic.py\", line 1461, in fit\n",
            "    solver = _check_solver(self.solver, self.penalty, self.dual)\n",
            "  File \"/usr/local/lib/python3.7/dist-packages/sklearn/linear_model/_logistic.py\", line 449, in _check_solver\n",
            "    % (solver, penalty)\n",
            "ValueError: Solver lbfgs supports only 'l2' or 'none' penalties, got elasticnet penalty.\n",
            "\n",
            "--------------------------------------------------------------------------------\n",
            "2 fits failed with the following error:\n",
            "Traceback (most recent call last):\n",
            "  File \"/usr/local/lib/python3.7/dist-packages/sklearn/model_selection/_validation.py\", line 680, in _fit_and_score\n",
            "    estimator.fit(X_train, y_train, **fit_params)\n",
            "  File \"/usr/local/lib/python3.7/dist-packages/sklearn/linear_model/_logistic.py\", line 1461, in fit\n",
            "    solver = _check_solver(self.solver, self.penalty, self.dual)\n",
            "  File \"/usr/local/lib/python3.7/dist-packages/sklearn/linear_model/_logistic.py\", line 449, in _check_solver\n",
            "    % (solver, penalty)\n",
            "ValueError: Solver lbfgs supports only 'l2' or 'none' penalties, got l1 penalty.\n",
            "\n",
            "  warnings.warn(some_fits_failed_message, FitFailedWarning)\n",
            "/usr/local/lib/python3.7/dist-packages/sklearn/model_selection/_search.py:972: UserWarning: One or more of the test scores are non-finite: [0.97506944 0.97479167 0.97479167 0.97493056 0.97347222 0.97569444\n",
            "        nan        nan 0.97479167 0.93506944 0.95520833 0.96673611\n",
            " 0.97479167 0.97680556 0.97638889]\n",
            "  category=UserWarning,\n"
          ]
        },
        {
          "name": "stdout",
          "output_type": "stream",
          "text": [
            "{'C': 10}\n",
            "LogisticRegression(C=10)\n",
            "              precision    recall  f1-score   support\n",
            "\n",
            "           0       0.97      0.99      0.98       783\n",
            "           1       0.99      0.97      0.98       817\n",
            "\n",
            "    accuracy                           0.98      1600\n",
            "   macro avg       0.98      0.98      0.98      1600\n",
            "weighted avg       0.98      0.98      0.98      1600\n",
            "\n"
          ]
        },
        {
          "name": "stderr",
          "output_type": "stream",
          "text": [
            "/usr/local/lib/python3.7/dist-packages/sklearn/linear_model/_logistic.py:818: ConvergenceWarning: lbfgs failed to converge (status=1):\n",
            "STOP: TOTAL NO. of ITERATIONS REACHED LIMIT.\n",
            "\n",
            "Increase the number of iterations (max_iter) or scale the data as shown in:\n",
            "    https://scikit-learn.org/stable/modules/preprocessing.html\n",
            "Please also refer to the documentation for alternative solver options:\n",
            "    https://scikit-learn.org/stable/modules/linear_model.html#logistic-regression\n",
            "  extra_warning_msg=_LOGISTIC_SOLVER_CONVERGENCE_MSG,\n"
          ]
        }
      ],
      "source": [
        "from sklearn.linear_model import LogisticRegression #import logistic regression model from sklearn\n",
        "\n",
        "#tune hyperparameter\n",
        "parameters = [{'solver': ['newton-cg', 'lbfgs', 'liblinear', 'sag', 'saga']},\n",
        "              {'penalty':['none', 'elasticnet', 'l1', 'l2']},\n",
        "              {'C':[0.001, 0.01, 0.1, 1, 10, 100]}]\n",
        "\n",
        "logistic_model = GridSearchCV(estimator = LogisticRegression(),  \n",
        "                           param_grid = parameters,\n",
        "                           scoring = 'accuracy',\n",
        "                           cv = 2,\n",
        "                           verbose=0)\n",
        "\n",
        "logistic_model.fit(X_train, y_train)\n",
        "\n",
        "# print best parameter after tuning\n",
        "print(logistic_model.best_params_)\n",
        " \n",
        "# print how our model looks after hyper-parameter tuning\n",
        "print(logistic_model.best_estimator_)\n",
        "\n",
        "grid_predictions = logistic_model.predict(X_test) #make prediction using test set\n",
        " \n",
        "# print classification report\n",
        "print(classification_report(y_test, grid_predictions))"
      ]
    },
    {
      "cell_type": "code",
      "execution_count": null,
      "metadata": {
        "colab": {
          "base_uri": "https://localhost:8080/"
        },
        "id": "Qd3Alqv9WVdj",
        "outputId": "d5a235bf-5808-4fc1-e03b-66240a43835c"
      },
      "outputs": [
        {
          "name": "stdout",
          "output_type": "stream",
          "text": [
            "                  Name  Accuracy  precision    recall        f1\n",
            "0  Logistic Regression   0.97875   0.987547  0.970624  0.979012\n",
            "              precision    recall  f1-score   support\n",
            "\n",
            "      Active       0.97      0.99      0.98       783\n",
            "    Inactive       0.99      0.97      0.98       817\n",
            "\n",
            "    accuracy                           0.98      1600\n",
            "   macro avg       0.98      0.98      0.98      1600\n",
            "weighted avg       0.98      0.98      0.98      1600\n",
            "\n"
          ]
        },
        {
          "data": {
            "text/plain": [
              "array([[773,  24],\n",
              "       [ 10, 793]])"
            ]
          },
          "execution_count": 33,
          "metadata": {},
          "output_type": "execute_result"
        }
      ],
      "source": [
        "y_pred = RF_model.predict(X_test) # make prediction on test set\n",
        "\n",
        "acc = accuracy_score(y_test, y_pred)\n",
        "prec = precision_score(y_test, y_pred)\n",
        "recall = recall_score(y_test, y_pred)\n",
        "f1 = f1_score(y_test, y_pred)\n",
        "\n",
        "#save performance\n",
        "model_name = pd.Series(['Logistic Regression'], name='Name')\n",
        "accuracy = pd.Series(acc, name='Accuracy')\n",
        "precision = pd.Series(prec, name='precision')\n",
        "recall = pd.Series(recall, name='recall')\n",
        "f1 = pd.Series(f1, name='f1')\n",
        "\n",
        "#Display performance\n",
        "performance_LG = pd.concat([model_name, accuracy, precision, recall, f1], axis=1)\n",
        "print(performance_LG)\n",
        "\n",
        "# Display confusion matrix\n",
        "target_names = ['Active', 'Inactive']\n",
        "print(classification_report(y_test, y_pred, target_names=target_names))\n",
        "cf_matrix=confusion_matrix(y_pred, y_test)\n",
        "cf_matrix"
      ]
    },
    {
      "cell_type": "code",
      "execution_count": null,
      "metadata": {
        "colab": {
          "base_uri": "https://localhost:8080/",
          "height": 81
        },
        "id": "LB0pzzumvB6T",
        "outputId": "74dbf2fd-c1cd-4ab6-a8d5-8c57f50d8216"
      },
      "outputs": [
        {
          "data": {
            "text/html": [
              "\n",
              "  <div id=\"df-30972f53-0819-4d88-86cb-dfffb19d22c1\">\n",
              "    <div class=\"colab-df-container\">\n",
              "      <div>\n",
              "<style scoped>\n",
              "    .dataframe tbody tr th:only-of-type {\n",
              "        vertical-align: middle;\n",
              "    }\n",
              "\n",
              "    .dataframe tbody tr th {\n",
              "        vertical-align: top;\n",
              "    }\n",
              "\n",
              "    .dataframe thead th {\n",
              "        text-align: right;\n",
              "    }\n",
              "</style>\n",
              "<table border=\"1\" class=\"dataframe\">\n",
              "  <thead>\n",
              "    <tr style=\"text-align: right;\">\n",
              "      <th></th>\n",
              "      <th>Name</th>\n",
              "      <th>MCC_train</th>\n",
              "      <th>Gridsearchcv</th>\n",
              "      <th>MCC_test</th>\n",
              "    </tr>\n",
              "  </thead>\n",
              "  <tbody>\n",
              "    <tr>\n",
              "      <th>0</th>\n",
              "      <td>Random Forest</td>\n",
              "      <td>0.966408</td>\n",
              "      <td>0.97875</td>\n",
              "      <td>0.955302</td>\n",
              "    </tr>\n",
              "  </tbody>\n",
              "</table>\n",
              "</div>\n",
              "      <button class=\"colab-df-convert\" onclick=\"convertToInteractive('df-30972f53-0819-4d88-86cb-dfffb19d22c1')\"\n",
              "              title=\"Convert this dataframe to an interactive table.\"\n",
              "              style=\"display:none;\">\n",
              "        \n",
              "  <svg xmlns=\"http://www.w3.org/2000/svg\" height=\"24px\"viewBox=\"0 0 24 24\"\n",
              "       width=\"24px\">\n",
              "    <path d=\"M0 0h24v24H0V0z\" fill=\"none\"/>\n",
              "    <path d=\"M18.56 5.44l.94 2.06.94-2.06 2.06-.94-2.06-.94-.94-2.06-.94 2.06-2.06.94zm-11 1L8.5 8.5l.94-2.06 2.06-.94-2.06-.94L8.5 2.5l-.94 2.06-2.06.94zm10 10l.94 2.06.94-2.06 2.06-.94-2.06-.94-.94-2.06-.94 2.06-2.06.94z\"/><path d=\"M17.41 7.96l-1.37-1.37c-.4-.4-.92-.59-1.43-.59-.52 0-1.04.2-1.43.59L10.3 9.45l-7.72 7.72c-.78.78-.78 2.05 0 2.83L4 21.41c.39.39.9.59 1.41.59.51 0 1.02-.2 1.41-.59l7.78-7.78 2.81-2.81c.8-.78.8-2.07 0-2.86zM5.41 20L4 18.59l7.72-7.72 1.47 1.35L5.41 20z\"/>\n",
              "  </svg>\n",
              "      </button>\n",
              "      \n",
              "  <style>\n",
              "    .colab-df-container {\n",
              "      display:flex;\n",
              "      flex-wrap:wrap;\n",
              "      gap: 12px;\n",
              "    }\n",
              "\n",
              "    .colab-df-convert {\n",
              "      background-color: #E8F0FE;\n",
              "      border: none;\n",
              "      border-radius: 50%;\n",
              "      cursor: pointer;\n",
              "      display: none;\n",
              "      fill: #1967D2;\n",
              "      height: 32px;\n",
              "      padding: 0 0 0 0;\n",
              "      width: 32px;\n",
              "    }\n",
              "\n",
              "    .colab-df-convert:hover {\n",
              "      background-color: #E2EBFA;\n",
              "      box-shadow: 0px 1px 2px rgba(60, 64, 67, 0.3), 0px 1px 3px 1px rgba(60, 64, 67, 0.15);\n",
              "      fill: #174EA6;\n",
              "    }\n",
              "\n",
              "    [theme=dark] .colab-df-convert {\n",
              "      background-color: #3B4455;\n",
              "      fill: #D2E3FC;\n",
              "    }\n",
              "\n",
              "    [theme=dark] .colab-df-convert:hover {\n",
              "      background-color: #434B5C;\n",
              "      box-shadow: 0px 1px 3px 1px rgba(0, 0, 0, 0.15);\n",
              "      filter: drop-shadow(0px 1px 2px rgba(0, 0, 0, 0.3));\n",
              "      fill: #FFFFFF;\n",
              "    }\n",
              "  </style>\n",
              "\n",
              "      <script>\n",
              "        const buttonEl =\n",
              "          document.querySelector('#df-30972f53-0819-4d88-86cb-dfffb19d22c1 button.colab-df-convert');\n",
              "        buttonEl.style.display =\n",
              "          google.colab.kernel.accessAllowed ? 'block' : 'none';\n",
              "\n",
              "        async function convertToInteractive(key) {\n",
              "          const element = document.querySelector('#df-30972f53-0819-4d88-86cb-dfffb19d22c1');\n",
              "          const dataTable =\n",
              "            await google.colab.kernel.invokeFunction('convertToInteractive',\n",
              "                                                     [key], {});\n",
              "          if (!dataTable) return;\n",
              "\n",
              "          const docLinkHtml = 'Like what you see? Visit the ' +\n",
              "            '<a target=\"_blank\" href=https://colab.research.google.com/notebooks/data_table.ipynb>data table notebook</a>'\n",
              "            + ' to learn more about interactive tables.';\n",
              "          element.innerHTML = '';\n",
              "          dataTable['output_type'] = 'display_data';\n",
              "          await google.colab.output.renderOutput(dataTable, element);\n",
              "          const docLink = document.createElement('div');\n",
              "          docLink.innerHTML = docLinkHtml;\n",
              "          element.appendChild(docLink);\n",
              "        }\n",
              "      </script>\n",
              "    </div>\n",
              "  </div>\n",
              "  "
            ],
            "text/plain": [
              "            Name  MCC_train  Gridsearchcv  MCC_test\n",
              "0  Random Forest   0.966408       0.97875  0.955302"
            ]
          },
          "execution_count": 34,
          "metadata": {},
          "output_type": "execute_result"
        }
      ],
      "source": [
        "y_train_pred = logistic_model.predict(X_train)\n",
        "y_test_pred = logistic_model.predict(X_test)\n",
        "mcc_train = matthews_corrcoef(y_train, y_train_pred)\n",
        "mcc_test = matthews_corrcoef(y_test, y_test_pred)\n",
        "\n",
        "model_name = pd.Series(['Random Forest'], name='Name')\n",
        "mcc_train_series = pd.Series(mcc_train, name='MCC_train')\n",
        "accuracy_LG = pd.Series(acc, name='Gridsearchcv')\n",
        "mcc_test_series = pd.Series(mcc_test, name='MCC_test')\n",
        "\n",
        "performance_metrics_LG = pd.concat([model_name, mcc_train_series, accuracy_LG, mcc_test_series], axis=1)\n",
        "performance_metrics_LG"
      ]
    },
    {
      "cell_type": "markdown",
      "metadata": {
        "id": "m5mcsAlpvcDT"
      },
      "source": [
        "Display final result of all models using pandas list\n"
      ]
    },
    {
      "cell_type": "code",
      "execution_count": null,
      "metadata": {
        "colab": {
          "base_uri": "https://localhost:8080/",
          "height": 175
        },
        "id": "ySKpIODvvblq",
        "outputId": "d80851c0-0a1a-4ddc-ded7-049a2c6a55af"
      },
      "outputs": [
        {
          "data": {
            "text/html": [
              "\n",
              "  <div id=\"df-a18bd309-4490-4634-b050-2da5ad5cda55\">\n",
              "    <div class=\"colab-df-container\">\n",
              "      <div>\n",
              "<style scoped>\n",
              "    .dataframe tbody tr th:only-of-type {\n",
              "        vertical-align: middle;\n",
              "    }\n",
              "\n",
              "    .dataframe tbody tr th {\n",
              "        vertical-align: top;\n",
              "    }\n",
              "\n",
              "    .dataframe thead th {\n",
              "        text-align: right;\n",
              "    }\n",
              "</style>\n",
              "<table border=\"1\" class=\"dataframe\">\n",
              "  <thead>\n",
              "    <tr style=\"text-align: right;\">\n",
              "      <th></th>\n",
              "      <th>Name</th>\n",
              "      <th>Accuracy</th>\n",
              "      <th>precision</th>\n",
              "      <th>recall</th>\n",
              "      <th>f1</th>\n",
              "    </tr>\n",
              "  </thead>\n",
              "  <tbody>\n",
              "    <tr>\n",
              "      <th>0</th>\n",
              "      <td>Logistic Regression</td>\n",
              "      <td>0.978750</td>\n",
              "      <td>0.987547</td>\n",
              "      <td>0.970624</td>\n",
              "      <td>0.979012</td>\n",
              "    </tr>\n",
              "    <tr>\n",
              "      <th>0</th>\n",
              "      <td>Random forest</td>\n",
              "      <td>0.978750</td>\n",
              "      <td>0.987547</td>\n",
              "      <td>0.970624</td>\n",
              "      <td>0.979012</td>\n",
              "    </tr>\n",
              "    <tr>\n",
              "      <th>0</th>\n",
              "      <td>SVM</td>\n",
              "      <td>0.991875</td>\n",
              "      <td>0.992647</td>\n",
              "      <td>0.991432</td>\n",
              "      <td>0.992039</td>\n",
              "    </tr>\n",
              "    <tr>\n",
              "      <th>0</th>\n",
              "      <td>xgb</td>\n",
              "      <td>0.988750</td>\n",
              "      <td>0.992602</td>\n",
              "      <td>0.985312</td>\n",
              "      <td>0.988943</td>\n",
              "    </tr>\n",
              "  </tbody>\n",
              "</table>\n",
              "</div>\n",
              "      <button class=\"colab-df-convert\" onclick=\"convertToInteractive('df-a18bd309-4490-4634-b050-2da5ad5cda55')\"\n",
              "              title=\"Convert this dataframe to an interactive table.\"\n",
              "              style=\"display:none;\">\n",
              "        \n",
              "  <svg xmlns=\"http://www.w3.org/2000/svg\" height=\"24px\"viewBox=\"0 0 24 24\"\n",
              "       width=\"24px\">\n",
              "    <path d=\"M0 0h24v24H0V0z\" fill=\"none\"/>\n",
              "    <path d=\"M18.56 5.44l.94 2.06.94-2.06 2.06-.94-2.06-.94-.94-2.06-.94 2.06-2.06.94zm-11 1L8.5 8.5l.94-2.06 2.06-.94-2.06-.94L8.5 2.5l-.94 2.06-2.06.94zm10 10l.94 2.06.94-2.06 2.06-.94-2.06-.94-.94-2.06-.94 2.06-2.06.94z\"/><path d=\"M17.41 7.96l-1.37-1.37c-.4-.4-.92-.59-1.43-.59-.52 0-1.04.2-1.43.59L10.3 9.45l-7.72 7.72c-.78.78-.78 2.05 0 2.83L4 21.41c.39.39.9.59 1.41.59.51 0 1.02-.2 1.41-.59l7.78-7.78 2.81-2.81c.8-.78.8-2.07 0-2.86zM5.41 20L4 18.59l7.72-7.72 1.47 1.35L5.41 20z\"/>\n",
              "  </svg>\n",
              "      </button>\n",
              "      \n",
              "  <style>\n",
              "    .colab-df-container {\n",
              "      display:flex;\n",
              "      flex-wrap:wrap;\n",
              "      gap: 12px;\n",
              "    }\n",
              "\n",
              "    .colab-df-convert {\n",
              "      background-color: #E8F0FE;\n",
              "      border: none;\n",
              "      border-radius: 50%;\n",
              "      cursor: pointer;\n",
              "      display: none;\n",
              "      fill: #1967D2;\n",
              "      height: 32px;\n",
              "      padding: 0 0 0 0;\n",
              "      width: 32px;\n",
              "    }\n",
              "\n",
              "    .colab-df-convert:hover {\n",
              "      background-color: #E2EBFA;\n",
              "      box-shadow: 0px 1px 2px rgba(60, 64, 67, 0.3), 0px 1px 3px 1px rgba(60, 64, 67, 0.15);\n",
              "      fill: #174EA6;\n",
              "    }\n",
              "\n",
              "    [theme=dark] .colab-df-convert {\n",
              "      background-color: #3B4455;\n",
              "      fill: #D2E3FC;\n",
              "    }\n",
              "\n",
              "    [theme=dark] .colab-df-convert:hover {\n",
              "      background-color: #434B5C;\n",
              "      box-shadow: 0px 1px 3px 1px rgba(0, 0, 0, 0.15);\n",
              "      filter: drop-shadow(0px 1px 2px rgba(0, 0, 0, 0.3));\n",
              "      fill: #FFFFFF;\n",
              "    }\n",
              "  </style>\n",
              "\n",
              "      <script>\n",
              "        const buttonEl =\n",
              "          document.querySelector('#df-a18bd309-4490-4634-b050-2da5ad5cda55 button.colab-df-convert');\n",
              "        buttonEl.style.display =\n",
              "          google.colab.kernel.accessAllowed ? 'block' : 'none';\n",
              "\n",
              "        async function convertToInteractive(key) {\n",
              "          const element = document.querySelector('#df-a18bd309-4490-4634-b050-2da5ad5cda55');\n",
              "          const dataTable =\n",
              "            await google.colab.kernel.invokeFunction('convertToInteractive',\n",
              "                                                     [key], {});\n",
              "          if (!dataTable) return;\n",
              "\n",
              "          const docLinkHtml = 'Like what you see? Visit the ' +\n",
              "            '<a target=\"_blank\" href=https://colab.research.google.com/notebooks/data_table.ipynb>data table notebook</a>'\n",
              "            + ' to learn more about interactive tables.';\n",
              "          element.innerHTML = '';\n",
              "          dataTable['output_type'] = 'display_data';\n",
              "          await google.colab.output.renderOutput(dataTable, element);\n",
              "          const docLink = document.createElement('div');\n",
              "          docLink.innerHTML = docLinkHtml;\n",
              "          element.appendChild(docLink);\n",
              "        }\n",
              "      </script>\n",
              "    </div>\n",
              "  </div>\n",
              "  "
            ],
            "text/plain": [
              "                  Name  Accuracy  precision    recall        f1\n",
              "0  Logistic Regression  0.978750   0.987547  0.970624  0.979012\n",
              "0        Random forest  0.978750   0.987547  0.970624  0.979012\n",
              "0                  SVM  0.991875   0.992647  0.991432  0.992039\n",
              "0                  xgb  0.988750   0.992602  0.985312  0.988943"
            ]
          },
          "execution_count": 35,
          "metadata": {},
          "output_type": "execute_result"
        }
      ],
      "source": [
        "result =[performance_LG, performance_RF, performance_svm, performance_xgb]\n",
        "output_perf = pd.concat(result)\n",
        "output_perf"
      ]
    },
    {
      "cell_type": "code",
      "execution_count": null,
      "metadata": {
        "colab": {
          "base_uri": "https://localhost:8080/",
          "height": 175
        },
        "id": "mayisWKKvxJ7",
        "outputId": "872c7716-0c7e-4c8c-cdd8-80af4dd0ba28"
      },
      "outputs": [
        {
          "data": {
            "text/html": [
              "\n",
              "  <div id=\"df-d006513e-f279-4279-ac90-a3db4923c50c\">\n",
              "    <div class=\"colab-df-container\">\n",
              "      <div>\n",
              "<style scoped>\n",
              "    .dataframe tbody tr th:only-of-type {\n",
              "        vertical-align: middle;\n",
              "    }\n",
              "\n",
              "    .dataframe tbody tr th {\n",
              "        vertical-align: top;\n",
              "    }\n",
              "\n",
              "    .dataframe thead th {\n",
              "        text-align: right;\n",
              "    }\n",
              "</style>\n",
              "<table border=\"1\" class=\"dataframe\">\n",
              "  <thead>\n",
              "    <tr style=\"text-align: right;\">\n",
              "      <th></th>\n",
              "      <th>Name</th>\n",
              "      <th>MCC_train</th>\n",
              "      <th>Gridsearchcv</th>\n",
              "      <th>MCC_test</th>\n",
              "    </tr>\n",
              "  </thead>\n",
              "  <tbody>\n",
              "    <tr>\n",
              "      <th>0</th>\n",
              "      <td>SVC</td>\n",
              "      <td>0.999445</td>\n",
              "      <td>0.991875</td>\n",
              "      <td>0.983744</td>\n",
              "    </tr>\n",
              "    <tr>\n",
              "      <th>0</th>\n",
              "      <td>SVC</td>\n",
              "      <td>0.999445</td>\n",
              "      <td>0.991875</td>\n",
              "      <td>0.983744</td>\n",
              "    </tr>\n",
              "    <tr>\n",
              "      <th>0</th>\n",
              "      <td>SVC</td>\n",
              "      <td>0.999445</td>\n",
              "      <td>0.991875</td>\n",
              "      <td>0.983744</td>\n",
              "    </tr>\n",
              "    <tr>\n",
              "      <th>0</th>\n",
              "      <td>xgb</td>\n",
              "      <td>0.997918</td>\n",
              "      <td>0.988750</td>\n",
              "      <td>0.977521</td>\n",
              "    </tr>\n",
              "  </tbody>\n",
              "</table>\n",
              "</div>\n",
              "      <button class=\"colab-df-convert\" onclick=\"convertToInteractive('df-d006513e-f279-4279-ac90-a3db4923c50c')\"\n",
              "              title=\"Convert this dataframe to an interactive table.\"\n",
              "              style=\"display:none;\">\n",
              "        \n",
              "  <svg xmlns=\"http://www.w3.org/2000/svg\" height=\"24px\"viewBox=\"0 0 24 24\"\n",
              "       width=\"24px\">\n",
              "    <path d=\"M0 0h24v24H0V0z\" fill=\"none\"/>\n",
              "    <path d=\"M18.56 5.44l.94 2.06.94-2.06 2.06-.94-2.06-.94-.94-2.06-.94 2.06-2.06.94zm-11 1L8.5 8.5l.94-2.06 2.06-.94-2.06-.94L8.5 2.5l-.94 2.06-2.06.94zm10 10l.94 2.06.94-2.06 2.06-.94-2.06-.94-.94-2.06-.94 2.06-2.06.94z\"/><path d=\"M17.41 7.96l-1.37-1.37c-.4-.4-.92-.59-1.43-.59-.52 0-1.04.2-1.43.59L10.3 9.45l-7.72 7.72c-.78.78-.78 2.05 0 2.83L4 21.41c.39.39.9.59 1.41.59.51 0 1.02-.2 1.41-.59l7.78-7.78 2.81-2.81c.8-.78.8-2.07 0-2.86zM5.41 20L4 18.59l7.72-7.72 1.47 1.35L5.41 20z\"/>\n",
              "  </svg>\n",
              "      </button>\n",
              "      \n",
              "  <style>\n",
              "    .colab-df-container {\n",
              "      display:flex;\n",
              "      flex-wrap:wrap;\n",
              "      gap: 12px;\n",
              "    }\n",
              "\n",
              "    .colab-df-convert {\n",
              "      background-color: #E8F0FE;\n",
              "      border: none;\n",
              "      border-radius: 50%;\n",
              "      cursor: pointer;\n",
              "      display: none;\n",
              "      fill: #1967D2;\n",
              "      height: 32px;\n",
              "      padding: 0 0 0 0;\n",
              "      width: 32px;\n",
              "    }\n",
              "\n",
              "    .colab-df-convert:hover {\n",
              "      background-color: #E2EBFA;\n",
              "      box-shadow: 0px 1px 2px rgba(60, 64, 67, 0.3), 0px 1px 3px 1px rgba(60, 64, 67, 0.15);\n",
              "      fill: #174EA6;\n",
              "    }\n",
              "\n",
              "    [theme=dark] .colab-df-convert {\n",
              "      background-color: #3B4455;\n",
              "      fill: #D2E3FC;\n",
              "    }\n",
              "\n",
              "    [theme=dark] .colab-df-convert:hover {\n",
              "      background-color: #434B5C;\n",
              "      box-shadow: 0px 1px 3px 1px rgba(0, 0, 0, 0.15);\n",
              "      filter: drop-shadow(0px 1px 2px rgba(0, 0, 0, 0.3));\n",
              "      fill: #FFFFFF;\n",
              "    }\n",
              "  </style>\n",
              "\n",
              "      <script>\n",
              "        const buttonEl =\n",
              "          document.querySelector('#df-d006513e-f279-4279-ac90-a3db4923c50c button.colab-df-convert');\n",
              "        buttonEl.style.display =\n",
              "          google.colab.kernel.accessAllowed ? 'block' : 'none';\n",
              "\n",
              "        async function convertToInteractive(key) {\n",
              "          const element = document.querySelector('#df-d006513e-f279-4279-ac90-a3db4923c50c');\n",
              "          const dataTable =\n",
              "            await google.colab.kernel.invokeFunction('convertToInteractive',\n",
              "                                                     [key], {});\n",
              "          if (!dataTable) return;\n",
              "\n",
              "          const docLinkHtml = 'Like what you see? Visit the ' +\n",
              "            '<a target=\"_blank\" href=https://colab.research.google.com/notebooks/data_table.ipynb>data table notebook</a>'\n",
              "            + ' to learn more about interactive tables.';\n",
              "          element.innerHTML = '';\n",
              "          dataTable['output_type'] = 'display_data';\n",
              "          await google.colab.output.renderOutput(dataTable, element);\n",
              "          const docLink = document.createElement('div');\n",
              "          docLink.innerHTML = docLinkHtml;\n",
              "          element.appendChild(docLink);\n",
              "        }\n",
              "      </script>\n",
              "    </div>\n",
              "  </div>\n",
              "  "
            ],
            "text/plain": [
              "  Name  MCC_train  Gridsearchcv  MCC_test\n",
              "0  SVC   0.999445      0.991875  0.983744\n",
              "0  SVC   0.999445      0.991875  0.983744\n",
              "0  SVC   0.999445      0.991875  0.983744\n",
              "0  xgb   0.997918      0.988750  0.977521"
            ]
          },
          "execution_count": 36,
          "metadata": {},
          "output_type": "execute_result"
        }
      ],
      "source": [
        "result =[performance_metrics_svm, performance_metrics_svm, performance_metrics_svm, performance_metrics_xgb]\n",
        "output_perf_MCC = pd.concat(result)\n",
        "output_perf_MCC"
      ]
    },
    {
      "cell_type": "markdown",
      "metadata": {
        "id": "_it1pdS7weFE"
      },
      "source": [
        "Save models as pickle for API"
      ]
    },
    {
      "cell_type": "code",
      "execution_count": null,
      "metadata": {
        "id": "-V9sZT35wc9U"
      },
      "outputs": [],
      "source": [
        "#SAVE MODEL\n",
        "import pickle\n",
        "pickle.dump(RF_model, open('/content/drive/MyDrive/final_project/RF_model.pkl', 'wb'))\n",
        "pickle.dump(logistic_model, open('/content/drive/MyDrive/final_project/logic_model.pkl', 'wb'))\n",
        "pickle.dump(svm_model, open('/content/drive/MyDrive/final_project/svm_model.pkl', 'wb'))"
      ]
    },
    {
      "cell_type": "markdown",
      "metadata": {
        "id": "7soy0TmAwssP"
      },
      "source": [
        "Make some predictions "
      ]
    },
    {
      "cell_type": "code",
      "execution_count": null,
      "metadata": {
        "id": "3zSyYU-75bqo"
      },
      "outputs": [],
      "source": [
        "# Compare descriptor inputs\n",
        "load_desc = pd.read_csv('PubChem.csv')\n",
        "    # read descriptors\n",
        "Xlist = list(pd.read_csv(\"model.csv\").columns)\n",
        "\n",
        "subset = load_desc[np.intersect1d(load_desc.columns, Xlist)]\n",
        "subset"
      ]
    },
    {
      "cell_type": "code",
      "execution_count": null,
      "metadata": {
        "colab": {
          "base_uri": "https://localhost:8080/"
        },
        "id": "04V90m1avnfL",
        "outputId": "c829970b-631d-4a1d-f949-37e5561595da"
      },
      "outputs": [
        {
          "data": {
            "text/plain": [
              "array([[0., 0., 0., 0., 0., 0., 0., 0., 0., 0., 0., 0., 0., 0., 0., 0.,\n",
              "        0., 0., 0., 0., 0., 0., 0., 0., 0., 0., 0., 0., 0., 0., 0., 0.,\n",
              "        0., 0., 0., 0., 0., 0., 0., 0., 0., 0., 0., 0., 0., 0., 0., 0.,\n",
              "        0., 0., 0., 0., 0., 0., 0., 0., 0., 0., 0., 0., 0., 0., 0., 0.,\n",
              "        0., 0., 0., 0., 0., 0., 0., 0., 0., 0., 0., 0., 0., 0., 0., 0.,\n",
              "        0., 0., 0., 0., 0., 0., 0., 0., 0., 0., 0., 0., 0., 0., 0., 0.,\n",
              "        0., 0., 0., 0., 0., 0., 0., 0., 0., 0., 0., 0., 0., 0., 0., 0.,\n",
              "        0., 0., 0., 0., 0., 0., 0., 0., 0., 0., 0., 0., 0., 0., 0., 0.,\n",
              "        0., 0., 0., 0., 0., 0., 0., 0., 0., 0., 0., 0., 0., 0., 0., 0.,\n",
              "        0., 0., 0., 0., 0., 0., 0., 0., 0., 0., 0., 0., 0., 0., 0., 0.,\n",
              "        0., 0., 0., 0., 0., 0., 0., 0., 0., 0., 0., 0., 0., 0., 0., 0.,\n",
              "        0., 0., 0., 0., 0., 0., 0., 0., 0., 0., 0., 0., 0., 0., 0., 0.,\n",
              "        0., 0., 0., 0., 0., 0., 0., 0., 0., 0., 0., 0., 0., 0., 0., 0.,\n",
              "        0., 0., 0., 0., 0., 0., 0., 0., 0., 0., 0., 0., 0., 0., 0., 0.,\n",
              "        0., 0., 0., 0., 0., 0., 0., 0., 0., 0., 0., 0., 0.]])"
            ]
          },
          "execution_count": 20,
          "metadata": {},
          "output_type": "execute_result"
        }
      ],
      "source": [
        "from sklearn.preprocessing import StandardScaler #scale input data\n",
        "sc = StandardScaler()\n",
        "desc_subset = sc.fit_transform(subset)\n",
        "desc_subset"
      ]
    },
    {
      "cell_type": "code",
      "execution_count": null,
      "metadata": {
        "colab": {
          "base_uri": "https://localhost:8080/"
        },
        "id": "Alq7RgwBtHcK",
        "outputId": "7874ff70-f6ce-4bd9-90fc-f387a6626c4a"
      },
      "outputs": [
        {
          "data": {
            "text/plain": [
              "array([[1]], dtype=uint8)"
            ]
          },
          "execution_count": 21,
          "metadata": {},
          "output_type": "execute_result"
        }
      ],
      "source": [
        "res = RF_model.predict(desc_subset) #USE Random forest for prediction\n",
        "res"
      ]
    },
    {
      "cell_type": "markdown",
      "metadata": {
        "id": "byrG22OkxV3P"
      },
      "source": [
        "ROC SCORE AND CURVE"
      ]
    },
    {
      "cell_type": "code",
      "execution_count": null,
      "metadata": {
        "id": "tBA4ylwJNoC0"
      },
      "outputs": [],
      "source": [
        "from sklearn.datasets import make_classification\n",
        "import numpy as np"
      ]
    },
    {
      "cell_type": "code",
      "execution_count": null,
      "metadata": {
        "id": "5j-C0ZxZORcx"
      },
      "outputs": [],
      "source": [
        "logistic_probs = logistic_model.predict_proba(X_test)[::,1]\n",
        "RF_probs = RF_model.predict_proba(X_test)[::,1]\n",
        "xgb_probs = xgb_model.predict_proba(X_test)[::,1]\n",
        "#svm_probs = svm_model.predict_proba(X_test)[::,1]"
      ]
    },
    {
      "cell_type": "code",
      "execution_count": null,
      "metadata": {
        "id": "TAl0wEBZOkI7"
      },
      "outputs": [],
      "source": [
        "from sklearn.metrics import roc_curve, roc_auc_score #import model "
      ]
    },
    {
      "cell_type": "code",
      "execution_count": null,
      "metadata": {
        "id": "kQ2t91m-O3NT"
      },
      "outputs": [],
      "source": [
        "logistic_auc = roc_auc_score(y_test, logistic_probs)\n",
        "RF_auc = roc_auc_score(y_test, RF_probs)\n",
        "#svm_auc = roc_auc_score(y_test, svm_probs)\n",
        "xgb_auc = roc_auc_score(y_test, xgb_probs)"
      ]
    },
    {
      "cell_type": "code",
      "execution_count": null,
      "metadata": {
        "colab": {
          "base_uri": "https://localhost:8080/"
        },
        "id": "C0OZ_EVVO3I_",
        "outputId": "aec8994a-875c-43ee-9c35-6b0da9549b8d"
      },
      "outputs": [
        {
          "name": "stdout",
          "output_type": "stream",
          "text": [
            "logistic: AUROC = 0.988\n",
            "RF: AUROC = 0.995\n",
            "svm: AUROC = 0.997\n"
          ]
        }
      ],
      "source": [
        "print('logistic: AUROC = %.3f' % (logistic_auc))\n",
        "print('RF: AUROC = %.3f' % (RF_auc))\n",
        "#print('svm: AUROC = %.3f' % (svm_auc))\n",
        "print('svm: AUROC = %.3f' % (xgb_auc))"
      ]
    },
    {
      "cell_type": "code",
      "execution_count": null,
      "metadata": {
        "id": "_UztdhH7PEH8"
      },
      "outputs": [],
      "source": [
        "logistic_fpr, logistic_tpr, _ = roc_curve(y_test, logistic_probs)\n",
        "RF_fpr, RF_tpr, _ = roc_curve(y_test, RF_probs)\n",
        "#svm_fpr, svm_tpr, _ = roc_curve(y_test, svm_probs)\n",
        "xgb_fpr, xgb_tpr, _ = roc_curve(y_test, xgb_probs)"
      ]
    },
    {
      "cell_type": "code",
      "execution_count": null,
      "metadata": {
        "colab": {
          "base_uri": "https://localhost:8080/",
          "height": 295
        },
        "id": "Etw5Tu2wPJxq",
        "outputId": "14734dd4-a0bc-453c-d3f7-71428be73754"
      },
      "outputs": [
        {
          "data": {
            "image/png": "[encoded data removed]",
            "text/plain": [
              "<Figure size 432x288 with 1 Axes>"
            ]
          },
          "metadata": {},
          "output_type": "display_data"
        }
      ],
      "source": [
        "import matplotlib.pyplot as plt\n",
        "plt.plot(logistic_fpr, logistic_tpr, marker='.', label='logistic (AUROC = %0.3f)' % logistic_auc)\n",
        "plt.plot(RF_fpr, RF_tpr, marker='.', label='RF (AUROC = %0.3f)' % RF_auc)\n",
        "#plt.plot(svm_fpr, svm_tpr, marker='.', label='svm (AUROC = %0.3f)' % svm_auc)\n",
        "plt.plot(xgb_fpr, xgb_tpr, marker='.', label='xgb (AUROC = %0.3f)' % xgb_auc)\n",
        "\n",
        "# Title\n",
        "plt.title('ROC Plot')\n",
        "# Axis labels\n",
        "plt.xlabel('False Positive Rate')\n",
        "plt.ylabel('True Positive Rate')\n",
        "# Show legend\n",
        "plt.legend() # \n",
        "# Show plot\n",
        "plt.show()"
      ]
    }
  ],
  "metadata": {
    "colab": {
      "collapsed_sections": [],
      "name": "Data preprocessing.ipynb",
      "provenance": []
    },
    "kernelspec": {
      "display_name": "Python 3",
      "name": "python3"
    },
    "language_info": {
      "name": "python"
    }
  },
  "nbformat": 4,
  "nbformat_minor": 0
}